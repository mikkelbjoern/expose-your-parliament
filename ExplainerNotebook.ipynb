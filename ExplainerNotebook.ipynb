{
 "cells": [
  {
   "cell_type": "markdown",
   "metadata": {},
   "source": [
    "# Expose your parliament - Explainer notebook\n",
    "*Group: Sam Rahbar (s183670), Jonas Mærsk (s183635) and Mikkel Goldschmidt (s183966).*\n",
    "\n",
    "All members of the group contributed equally to the project.\n",
    "\n",
    "## Introduction (and a crash course in Danish politics)"
   ]
  },
  {
   "cell_type": "markdown",
   "metadata": {},
   "source": [
    "The aim of this report is to get insight into the Danish power structure in the national parliament \"Folketinget\" (often abreviated FT).\n",
    "The parlament has 179 member of whom 2 are elected in Greenland and 2 on the Faroe Islands (both contries being part of The Kingdom of Denmark).\n",
    "The members of parlament are often revefered to as MF (Medlem af/Member of Folketinget).\n",
    "\n",
    "To be able to properly understand this project and the analysis, one must understand the basics of Danish politics.\n",
    "As the report goes along, it will try to explain the domain knowledge, but to make the reading process easier, we have decided to write a very small crash course.\n",
    "As stated in the beginning The Kingdom of Denmark has a national parliament.\n",
    "The members are primarily elected through parties for a period of a maximum of 4 years.\n",
    "This report will focus on an election period between 2015 and 2019 in which the Danish prime minister was Lars Løkke Rasmussen the leader of the party Venstre.\n",
    "The reason for limiting ourselves to this period is that the power structure changed a lot after the election in 2019 when the new prime minister became Mette Frederiksen - the leader of Socialdemokraterne.\n",
    "Denmark has a lot of parties (as opposed to contries like the US with effectively only 2 parties).\n",
    "Each party will typically choose a logo and a color, that is distinct and easily recognizeable.\n",
    "To refer to a party in shorthand usually a few letters are used. Unfortuneatly there is no definte standard for what is used. Sometimes a set of letters abreviating the entire party name is used. Sometimes an official letter used for the election lists are used - this is handled a little ad hoc throughout the report, since there really isn't a standard to follow.\n",
    "In this period of time, the three biggest parties in Folketinget were:\n",
    "\n",
    "- Venstre (meaning Left) - Has a *blue color*, a stylized V as logo and is commonly seen as a center-right party (yes, you read right, the party named Left is a right-leaning party). The usually use the letter 'V' as abreviation.\n",
    "\n",
    "- Socialdemokraterne (meaning The Social Democrats) - Has a *red color*, a rose as logo and is commonly seen as s center-left party. They are usually abreviated by 'S' or 'A'.\n",
    "\n",
    "- Dansk Folkeparti (meaning The Danish Peoples Party) - Has a *yellow color*, a logo with the letters DF encapsulated by two Danish flags and is commonly seen as a right-leaning party with focus on nationalistic values. They are usually abreviated as either 'DF' or 'O'.\n",
    "\n",
    "Most of these parties have a youth organization - usually just named the same as the party suffixed with the word \"Ungdom\" (meaning youth).\n",
    "\n",
    "\n",
    "## The FT Odata dataset\n",
    "To gain insight into the Danish political landscape, we have used the open data provided by Folketinget about the workings of parlament.\n",
    "The data is a relational database that can be found at https://oda.ft.dk/Home/OdataQuery.\n",
    "It exposes information on a lot of different objects, among them:\n",
    "\n",
    "- Members of parlament\n",
    "\n",
    "    * Biographies introducing the background of the members\n",
    "    \n",
    "    * Which commities they sit on\n",
    "    \n",
    "    * Which party they belong to\n",
    "    \n",
    "    * Their roles on different commities and governmental institutions (like minesterial titles)\n",
    "    \n",
    "- Meetings \n",
    "\n",
    "    * Written transcripts from the meetings\n",
    "    \n",
    "    * Lists of who attended the meetings\n",
    "    \n",
    "The data does contain a lot more information than listed above, but these are the important points from the analysis done in this report.\n",
    "Another important thing about the dataset is that it is in Danish.\n",
    "This does give rise to some problems. Among these text analysis where the standard tools are defined in English. \n",
    "\n",
    "## Personal motivation\n",
    "The reason that we chose this dataset was simply an interest in politics.\n",
    "Further the idea of finding someone powerfull who wasn't in the public eye intrigued us (though throughout the project we came to realize that such conclusion required more time than we had available).\n",
    "We were also motivated by the fact we hadn't seen anyone analyze this dataset before, making us feel like we had an oppertunity to actually discover something new.\n",
    "\n",
    "## Goal for the end user\n",
    "The hope was to give some level of insight into the Danish political landscape that is not portrayed by the usual media.\n",
    "Where the media is very focused on qualitative data like interview and their analysis the motivations of a specific politician in a given situation, we were able to give a more qualitative look at what happens in parliament.\n",
    "It is sometimes seen in the Danish media that someone uses the data provided here for stuff like counting how much a specific politician talks in parliament (usually highlighting politicians that are deemed to not participate enough in the democratic process).\n",
    "We have however not seen a more quantitative analysis of language usage and how the politicians interacted with each other.\n",
    "The goal was therefore to provide the end user with some insight into the political landscape using this more quantitative approach.\n",
    "\n",
    "## Structure of the report\n",
    "Even though the problem description wanted for the report to be structured with an initial look and preprocessing of the data first (section 2) and a description of the tools after (3), we decided to change the structure slightly.\n",
    "The text data that we are analyzing is very loosely coupled with the network data - hence the dataset are preprocessed seperately. We therefore decided to do preprocessing and data analysis of the network data first and then do those two again afterwards for the text analysis."
   ]
  },
  {
   "cell_type": "markdown",
   "metadata": {},
   "source": [
    "## Network analysis"
   ]
  },
  {
   "cell_type": "markdown",
   "metadata": {},
   "source": [
    "We have investigated to different ways of making networks from the dataset.\n",
    "Only the latter is presented on the website.\n",
    "The first is from a linking table linking different political actors together (defined in the section below).\n",
    "The latter is from the biographies that the politicians have written about themselves."
   ]
  },
  {
   "cell_type": "markdown",
   "metadata": {},
   "source": [
    "### The predefined relations (Aktør-Aktør)"
   ]
  },
  {
   "cell_type": "markdown",
   "metadata": {},
   "source": [
    "The terminology in the dataset defines an `Actor` (\"Aktør\" in the dataset) which is important to understand if you investigate the dataset. \n",
    "An `Actor` is some kind of political agent which can be anything from a MF to a ministerial title or the head of a commitee.\n",
    "The dataset provides a linking table relating the Actors to other actors in a variety of ways (the `AktørAktør` table).\n",
    "This table will be the starting point to make a network of politicians, as it provides a way to link politicians to one another.\n",
    "The exact details of linking will be explained as the data is loaded and cleaned.\n",
    "\n",
    "The `.csv` files loaded into the program is simply dumps of the entire tables from the Odata database with corrosponding names. That is the table `Aktør` corrosponds to the file `data/ft/Aktør.csv`."
   ]
  },
  {
   "cell_type": "markdown",
   "metadata": {},
   "source": [
    "#### Data cleaning"
   ]
  },
  {
   "cell_type": "markdown",
   "metadata": {},
   "source": [
    "Since the data is mined from a relational database, we need to do some linking to get the information needed.\n",
    "Our aim is to build a network of people (primarily politicians) and how they relate to oneanother.\n",
    "Hence we will first find all Actors and then filter out those that are actual people."
   ]
  },
  {
   "cell_type": "code",
   "execution_count": 1,
   "metadata": {},
   "outputs": [],
   "source": [
    "from collections import Counter\n",
    "import networkx as nx\n",
    "import netwulf as nw\n",
    "import pandas as pd\n",
    "\n",
    "# The table containing all actors\n",
    "actors = pd.read_csv('data/ft/Aktør.csv')\n",
    "# The table describing the different types of actors that exist in the data\n",
    "# This could be something equivalent to \"Minister\" or \"Member of parlament\"\n",
    "actor_types = pd.read_csv('data/ft/Aktørtype.csv').set_index('id', drop=False)\n",
    "\n",
    "# The relation table between actors\n",
    "# A lot of these are links from people to subcommities like the Comitee on Health.\n",
    "actor_relations = pd.read_csv('data/ft/AktørAktør.csv')\n",
    "# Each of the links are tagged with a type of relation.\n",
    "# This enables the distinction between for instance an Actor being the head of a comitee\n",
    "# and just being a member of the comiteee.\n",
    "actor_relation_types = pd.read_csv('data/ft/AktørAktørRolle.csv').set_index('id', drop=False)"
   ]
  },
  {
   "cell_type": "markdown",
   "metadata": {},
   "source": [
    "To make it easier to query the data, the relations type-tables are joined onto the main table."
   ]
  },
  {
   "cell_type": "code",
   "execution_count": 2,
   "metadata": {},
   "outputs": [
    {
     "data": {
      "text/html": [
       "<div>\n",
       "<style scoped>\n",
       "    .dataframe tbody tr th:only-of-type {\n",
       "        vertical-align: middle;\n",
       "    }\n",
       "\n",
       "    .dataframe tbody tr th {\n",
       "        vertical-align: top;\n",
       "    }\n",
       "\n",
       "    .dataframe thead th {\n",
       "        text-align: right;\n",
       "    }\n",
       "</style>\n",
       "<table border=\"1\" class=\"dataframe\">\n",
       "  <thead>\n",
       "    <tr style=\"text-align: right;\">\n",
       "      <th></th>\n",
       "      <th>id</th>\n",
       "      <th>typeid</th>\n",
       "      <th>gruppenavnkort</th>\n",
       "      <th>navn</th>\n",
       "      <th>fornavn</th>\n",
       "      <th>efternavn</th>\n",
       "      <th>biografi</th>\n",
       "      <th>periodeid</th>\n",
       "      <th>opdateringsdato</th>\n",
       "      <th>startdato</th>\n",
       "      <th>slutdato</th>\n",
       "      <th>type</th>\n",
       "    </tr>\n",
       "  </thead>\n",
       "  <tbody>\n",
       "    <tr>\n",
       "      <th>1668</th>\n",
       "      <td>286</td>\n",
       "      <td>5</td>\n",
       "      <td>NaN</td>\n",
       "      <td>Ane Halsboe-Jørgensen</td>\n",
       "      <td>Ane</td>\n",
       "      <td>Halsboe-Jørgensen</td>\n",
       "      <td>&lt;member&gt;&lt;url&gt;/medlemmer/mf/a/ane-halsboe-joerg...</td>\n",
       "      <td>NaN</td>\n",
       "      <td>2021-04-07T19:20:35.493</td>\n",
       "      <td>2015-10-08T00:00:00</td>\n",
       "      <td>2016-04-27T00:00:00</td>\n",
       "      <td>Person</td>\n",
       "    </tr>\n",
       "    <tr>\n",
       "      <th>14852</th>\n",
       "      <td>9489</td>\n",
       "      <td>12</td>\n",
       "      <td>NaN</td>\n",
       "      <td>Niels Jørn Schak Krog, Hjørring</td>\n",
       "      <td>Niels Jørn Schak Krog,</td>\n",
       "      <td>Hjørring</td>\n",
       "      <td>NaN</td>\n",
       "      <td>NaN</td>\n",
       "      <td>2014-09-22T14:15:45.577</td>\n",
       "      <td>NaN</td>\n",
       "      <td>NaN</td>\n",
       "      <td>Privatperson</td>\n",
       "    </tr>\n",
       "    <tr>\n",
       "      <th>12710</th>\n",
       "      <td>2650</td>\n",
       "      <td>12</td>\n",
       "      <td>NaN</td>\n",
       "      <td>Benniy Dan Jensen, Rødovre</td>\n",
       "      <td>Benniy Dan Jensen,</td>\n",
       "      <td>Rødovre</td>\n",
       "      <td>NaN</td>\n",
       "      <td>NaN</td>\n",
       "      <td>2014-09-11T17:35:54.277</td>\n",
       "      <td>NaN</td>\n",
       "      <td>NaN</td>\n",
       "      <td>Privatperson</td>\n",
       "    </tr>\n",
       "  </tbody>\n",
       "</table>\n",
       "</div>"
      ],
      "text/plain": [
       "         id  typeid gruppenavnkort                             navn  \\\n",
       "1668    286       5            NaN            Ane Halsboe-Jørgensen   \n",
       "14852  9489      12            NaN  Niels Jørn Schak Krog, Hjørring   \n",
       "12710  2650      12            NaN       Benniy Dan Jensen, Rødovre   \n",
       "\n",
       "                      fornavn          efternavn  \\\n",
       "1668                      Ane  Halsboe-Jørgensen   \n",
       "14852  Niels Jørn Schak Krog,           Hjørring   \n",
       "12710      Benniy Dan Jensen,            Rødovre   \n",
       "\n",
       "                                                biografi  periodeid  \\\n",
       "1668   <member><url>/medlemmer/mf/a/ane-halsboe-joerg...        NaN   \n",
       "14852                                                NaN        NaN   \n",
       "12710                                                NaN        NaN   \n",
       "\n",
       "               opdateringsdato            startdato             slutdato  \\\n",
       "1668   2021-04-07T19:20:35.493  2015-10-08T00:00:00  2016-04-27T00:00:00   \n",
       "14852  2014-09-22T14:15:45.577                  NaN                  NaN   \n",
       "12710  2014-09-11T17:35:54.277                  NaN                  NaN   \n",
       "\n",
       "               type  \n",
       "1668         Person  \n",
       "14852  Privatperson  \n",
       "12710  Privatperson  "
      ]
     },
     "execution_count": 2,
     "metadata": {},
     "output_type": "execute_result"
    }
   ],
   "source": [
    "actors = actors.merge(actor_types[['type']], left_on='typeid', right_on='id')\n",
    "actor_relations = actor_relations.merge(actor_relation_types[['rolle']], left_on='rolleid', right_on='id')\n",
    "actors.sample(3)"
   ]
  },
  {
   "cell_type": "code",
   "execution_count": 3,
   "metadata": {},
   "outputs": [
    {
     "data": {
      "text/html": [
       "<div>\n",
       "<style scoped>\n",
       "    .dataframe tbody tr th:only-of-type {\n",
       "        vertical-align: middle;\n",
       "    }\n",
       "\n",
       "    .dataframe tbody tr th {\n",
       "        vertical-align: top;\n",
       "    }\n",
       "\n",
       "    .dataframe thead th {\n",
       "        text-align: right;\n",
       "    }\n",
       "</style>\n",
       "<table border=\"1\" class=\"dataframe\">\n",
       "  <thead>\n",
       "    <tr style=\"text-align: right;\">\n",
       "      <th></th>\n",
       "      <th>id</th>\n",
       "      <th>fraaktørid</th>\n",
       "      <th>tilaktørid</th>\n",
       "      <th>startdato</th>\n",
       "      <th>slutdato</th>\n",
       "      <th>opdateringsdato</th>\n",
       "      <th>rolleid</th>\n",
       "      <th>rolle</th>\n",
       "    </tr>\n",
       "  </thead>\n",
       "  <tbody>\n",
       "    <tr>\n",
       "      <th>17099</th>\n",
       "      <td>71668</td>\n",
       "      <td>14387</td>\n",
       "      <td>9987</td>\n",
       "      <td>1979-03-14T00:00:00</td>\n",
       "      <td>NaN</td>\n",
       "      <td>2015-03-19T11:02:52.277</td>\n",
       "      <td>15</td>\n",
       "      <td>medlem</td>\n",
       "    </tr>\n",
       "    <tr>\n",
       "      <th>93260</th>\n",
       "      <td>24935725</td>\n",
       "      <td>172</td>\n",
       "      <td>16917</td>\n",
       "      <td>2017-07-01T00:00:00</td>\n",
       "      <td>NaN</td>\n",
       "      <td>2021-04-07T19:20:53.95</td>\n",
       "      <td>15</td>\n",
       "      <td>medlem</td>\n",
       "    </tr>\n",
       "    <tr>\n",
       "      <th>18892</th>\n",
       "      <td>75133</td>\n",
       "      <td>14085</td>\n",
       "      <td>10410</td>\n",
       "      <td>NaN</td>\n",
       "      <td>NaN</td>\n",
       "      <td>2015-04-08T10:36:33.217</td>\n",
       "      <td>15</td>\n",
       "      <td>medlem</td>\n",
       "    </tr>\n",
       "  </tbody>\n",
       "</table>\n",
       "</div>"
      ],
      "text/plain": [
       "             id  fraaktørid  tilaktørid            startdato slutdato  \\\n",
       "17099     71668       14387        9987  1979-03-14T00:00:00      NaN   \n",
       "93260  24935725         172       16917  2017-07-01T00:00:00      NaN   \n",
       "18892     75133       14085       10410                  NaN      NaN   \n",
       "\n",
       "               opdateringsdato  rolleid   rolle  \n",
       "17099  2015-03-19T11:02:52.277       15  medlem  \n",
       "93260   2021-04-07T19:20:53.95       15  medlem  \n",
       "18892  2015-04-08T10:36:33.217       15  medlem  "
      ]
     },
     "execution_count": 3,
     "metadata": {},
     "output_type": "execute_result"
    }
   ],
   "source": [
    "actor_relations.sample(3)"
   ]
  },
  {
   "cell_type": "markdown",
   "metadata": {},
   "source": [
    "To get access to the party of each politician, their biography has to be read.\n",
    "Here the sex of each politician can be seen as well.\n",
    "Note that the biography is XML-encoded, which gives rise to the method of extraction below."
   ]
  },
  {
   "cell_type": "code",
   "execution_count": 4,
   "metadata": {},
   "outputs": [],
   "source": [
    "actors = actors.fillna('')\n",
    "import re\n",
    "\n",
    "# XML-decoding probably should be done using regex, but it works in this case\n",
    "def getTag(bio,tag):\n",
    "    if bio:\n",
    "        results = re.search('<'+tag+'>(.*)</'+tag+'>', bio)\n",
    "        if results: return results[1]\n",
    "    else: return ''\n",
    "\n",
    "actors['party'] = actors['biografi'].apply(getTag, args=('partyShortname',))\n",
    "actors['køn'] = actors['biografi'].apply(getTag, args=('sex',))"
   ]
  },
  {
   "cell_type": "markdown",
   "metadata": {},
   "source": [
    "The type of an Actor can be used to determine if this an actual person (which are the only Actors that we are intersted in linking).\n",
    "Two types of persons are defined in the data: \"Person\" (which translates directly to English) and \"Privatperson\" (which translates to a private citizen).\n",
    "Note here that by a person is meant a politician, that is registered as such in the dataset.\n",
    "These people are primarily current members of parlament."
   ]
  },
  {
   "cell_type": "code",
   "execution_count": 5,
   "metadata": {},
   "outputs": [],
   "source": [
    "persons = actors[actors['type'].isin(['Person', 'Privatperson'])]\n",
    "personIds = persons['id'].values"
   ]
  },
  {
   "cell_type": "markdown",
   "metadata": {},
   "source": [
    "The actors in the dataset are all tagged with a `periode` (the precise definition of each is defined in the `Perioder` table of the database).\n",
    "This value specified as period of time that the parlament was in session.\n",
    "The need for this value comes from the fact that the actors in parlament change over time.\n",
    "For instance old commities are closed and new ones opened, elections change the politicians and some politicians decide to leave their party and maybe even join a new one.\n",
    "That means that a given indiviual person can be present many times in the dataset - once for each period of time.\n",
    "To make sure that we get consistent view of the parlament, we choose a single period thereby making sure that each person is only represented once."
   ]
  },
  {
   "cell_type": "code",
   "execution_count": 6,
   "metadata": {},
   "outputs": [],
   "source": [
    "periods = [i for i in range(139, 148)] #period from the election in 139 to now\n",
    "groups = actors[actors['periodeid'].isin(periods)]\n",
    "groupIds = groups['id'].values"
   ]
  },
  {
   "cell_type": "markdown",
   "metadata": {},
   "source": [
    "Looking into the data, one discovers, that almost all of the relations is from a person to some kind of group - most often commities on some subject like health, economy or transportation.\n",
    "\n",
    "To build a network of relations we therefore extract what people that are in what commities (and other parlamentary groups)."
   ]
  },
  {
   "cell_type": "code",
   "execution_count": 7,
   "metadata": {},
   "outputs": [],
   "source": [
    "# It seems to be that the `tilaktørid` always specifies the Actor id of the group\n",
    "# and the `fraaktørid` always specifies the person when linking a person to a group that they are a member of. \n",
    "relations = actor_relations[(actor_relations['tilaktørid'].isin(groupIds))\n",
    "                            & (actor_relations['fraaktørid'].isin(personIds))]  "
   ]
  },
  {
   "cell_type": "markdown",
   "metadata": {},
   "source": [
    "These relations can then be grouped by the individual, making a list for each group of all the people that are in the group."
   ]
  },
  {
   "cell_type": "code",
   "execution_count": 8,
   "metadata": {},
   "outputs": [],
   "source": [
    "group_persons = relations[['tilaktørid','fraaktørid']]\\\n",
    "    .groupby(['tilaktørid'])\\\n",
    "    .agg(lambda tdf: tdf.unique().tolist())\n",
    "\n",
    "all_persons_in_period = list(set(group_persons.fraaktørid.agg(sum)))"
   ]
  },
  {
   "cell_type": "markdown",
   "metadata": {},
   "source": [
    "A network could then be specified by having an edge of weight 1 between all members of each group.\n",
    "This approach does however yield some problems as some of the groups are very big (one of them being the entire parlament including some suppleants making a group larger than the 179 members of parlament)."
   ]
  },
  {
   "cell_type": "code",
   "execution_count": 9,
   "metadata": {},
   "outputs": [
    {
     "data": {
      "image/png": "[encoded data removed]",
      "text/plain": [
       "<Figure size 432x288 with 1 Axes>"
      ]
     },
     "metadata": {
      "needs_background": "light"
     },
     "output_type": "display_data"
    }
   ],
   "source": [
    "import matplotlib.pyplot as plt\n",
    "group_persons.fraaktørid.map(len).plot(kind='hist', bins=20, label=\"Group sizes\")\n",
    "plt.arrow(x=179, y=8, dx=0, dy=-5, head_width=4, head_length=2, color=\"red\", label=\"Members of parlament\")\n",
    "plt.legend()\n",
    "plt.show()"
   ]
  },
  {
   "cell_type": "markdown",
   "metadata": {},
   "source": [
    "To make investigation of the network easier, we make some subsets of the groups that can be used to investigate the group sizes."
   ]
  },
  {
   "cell_type": "code",
   "execution_count": 10,
   "metadata": {},
   "outputs": [
    {
     "data": {
      "text/html": [
       "<div>\n",
       "<style scoped>\n",
       "    .dataframe tbody tr th:only-of-type {\n",
       "        vertical-align: middle;\n",
       "    }\n",
       "\n",
       "    .dataframe tbody tr th {\n",
       "        vertical-align: top;\n",
       "    }\n",
       "\n",
       "    .dataframe thead th {\n",
       "        text-align: right;\n",
       "    }\n",
       "</style>\n",
       "<table border=\"1\" class=\"dataframe\">\n",
       "  <thead>\n",
       "    <tr style=\"text-align: right;\">\n",
       "      <th></th>\n",
       "      <th>fraaktørid</th>\n",
       "    </tr>\n",
       "    <tr>\n",
       "      <th>tilaktørid</th>\n",
       "      <th></th>\n",
       "    </tr>\n",
       "  </thead>\n",
       "  <tbody>\n",
       "    <tr>\n",
       "      <th>16095</th>\n",
       "      <td>[18, 366]</td>\n",
       "    </tr>\n",
       "    <tr>\n",
       "      <th>17613</th>\n",
       "      <td>[17827, 16728, 17628, 18278, 33, 15788, 199, 2...</td>\n",
       "    </tr>\n",
       "    <tr>\n",
       "      <th>17612</th>\n",
       "      <td>[86, 59, 123, 152, 112, 55, 141, 116, 191, 100]</td>\n",
       "    </tr>\n",
       "  </tbody>\n",
       "</table>\n",
       "</div>"
      ],
      "text/plain": [
       "                                                   fraaktørid\n",
       "tilaktørid                                                   \n",
       "16095                                               [18, 366]\n",
       "17613       [17827, 16728, 17628, 18278, 33, 15788, 199, 2...\n",
       "17612         [86, 59, 123, 152, 112, 55, 141, 116, 191, 100]"
      ]
     },
     "execution_count": 10,
     "metadata": {},
     "output_type": "execute_result"
    }
   ],
   "source": [
    "medium_groups = group_persons[ group_persons.fraaktørid.map(len) < 55]\n",
    "small_groups = group_persons[ group_persons.fraaktørid.map(len) < 26]\n",
    "small_groups.sample(3)"
   ]
  },
  {
   "cell_type": "markdown",
   "metadata": {},
   "source": [
    "To make the network possible to understand, we would rather show the name of a person that the persons corrosponding id.\n",
    "For that purpose, we define a mapping function from id to name."
   ]
  },
  {
   "cell_type": "code",
   "execution_count": 11,
   "metadata": {},
   "outputs": [],
   "source": [
    "actor_names = dict(zip(actors['id'], actors['navn']))\n",
    "def getActorName(aid):\n",
    "    return actor_names.get(aid, 'Unnamed ' + str(aid))"
   ]
  },
  {
   "cell_type": "markdown",
   "metadata": {},
   "source": [
    "We then go through the groups to create links."
   ]
  },
  {
   "cell_type": "code",
   "execution_count": 12,
   "metadata": {},
   "outputs": [],
   "source": [
    "import itertools\n",
    "edges = []\n",
    "\n",
    "for personIds in medium_groups['fraaktørid']:\n",
    "    combos = list(itertools.combinations(personIds, 2))\n",
    "    combos_weighted = [(min(n1,n2), max(n1,n2), 1) for n1, n2 in list(combos)]\n",
    "    edges.extend(combos_weighted)\n",
    "    \n",
    "# Unidirectional graph\n",
    "edges = [(min(n1,n2), max(n1,n2), w) for (n1,n2, w) in edges]"
   ]
  },
  {
   "cell_type": "markdown",
   "metadata": {},
   "source": [
    "And combine multiple edges between people into a single higher weighted edge (by adding the weights of all edges connecting them)."
   ]
  },
  {
   "cell_type": "code",
   "execution_count": 13,
   "metadata": {},
   "outputs": [],
   "source": [
    "from itertools import groupby\n",
    "weighted_edges = [\n",
    "    (getActorName(edge[0]),\n",
    "     getActorName(edge[1]),\n",
    "     sum(j for n1, n2, j in data)) \n",
    "        for edge, data in groupby(edges, key=lambda v: (v[0], v[1]))\n",
    "]"
   ]
  },
  {
   "cell_type": "markdown",
   "metadata": {},
   "source": [
    "This enables us to define a network using almost all the groups defined in the dataset."
   ]
  },
  {
   "cell_type": "code",
   "execution_count": 14,
   "metadata": {},
   "outputs": [],
   "source": [
    "G_medium = nx.Graph()\n",
    "G_medium.add_weighted_edges_from(weighted_edges)"
   ]
  },
  {
   "cell_type": "markdown",
   "metadata": {},
   "source": [
    "Each party in Folketinget has a color associated with them. We color people by their party color is avaiable."
   ]
  },
  {
   "cell_type": "code",
   "execution_count": 15,
   "metadata": {},
   "outputs": [],
   "source": [
    "colorBy = 'party'\n",
    "colors = {\n",
    "    'S': '#a82721',\n",
    "    'V': '#254264',\n",
    "    'O': '#eac73e',\n",
    "    'DF': '#eac73e',\n",
    "    'RV': '#733280',\n",
    "    'SF': '#e07ea8',\n",
    "    'EL': '#e6801a',\n",
    "    'KF': '#96b226',\n",
    "    'NB': '#127b7f',\n",
    "    'LA': '#3fb2be',\n",
    "    'KD': '#8b8474',\n",
    "    'ALT': '#00FF00',\n",
    "    'CD': '#a70787',\n",
    "    'IA': '#ff0000',\n",
    "    'UFG': '#4d4d4d'\n",
    "}\n",
    "\n",
    "actorColors = { name: colors.get(colorId, 'grey') for name, colorId in actors[['navn', colorBy]].values }\n",
    "nx.set_node_attributes(G_medium, actorColors, 'group')"
   ]
  },
  {
   "cell_type": "markdown",
   "metadata": {},
   "source": [
    "We can then visualize the network."
   ]
  },
  {
   "cell_type": "code",
   "execution_count": 16,
   "metadata": {},
   "outputs": [
    {
     "data": {
      "image/png": "[encoded data removed]",
      "text/plain": [
       "<Figure size 288x288 with 1 Axes>"
      ]
     },
     "metadata": {
      "needs_background": "light"
     },
     "output_type": "display_data"
    }
   ],
   "source": [
    "_ = nw.visualize(G_medium)"
   ]
  },
  {
   "cell_type": "markdown",
   "metadata": {},
   "source": [
    "The theory is that this network should represent some kind of social network, as people in the same groups might know one another.\n",
    "If that were the case, we would expect the degree distribution power law distributed. \n",
    "This is easy to check by plotting the data in log-log and checking if the line is linear (which it clearly is not)."
   ]
  },
  {
   "cell_type": "code",
   "execution_count": 17,
   "metadata": {},
   "outputs": [
    {
     "data": {
      "image/png": "[encoded data removed]",
      "text/plain": [
       "<Figure size 5400x1500 with 1 Axes>"
      ]
     },
     "metadata": {
      "needs_background": "light"
     },
     "output_type": "display_data"
    }
   ],
   "source": [
    "from custom_plots import degree_distribution_histogram\n",
    "\n",
    "degree_distribution_histogram([v for person, v in G_medium.degree(weight='weight')])"
   ]
  },
  {
   "cell_type": "markdown",
   "metadata": {},
   "source": [
    "This might be due to several different reasons, but one of them is that a group of 50 people is not certain to know each other.\n",
    "To check if this might be the case, we repeat the plotting proces with all the big groups cutted off."
   ]
  },
  {
   "cell_type": "code",
   "execution_count": 18,
   "metadata": {},
   "outputs": [],
   "source": [
    "import itertools\n",
    "from itertools import groupby\n",
    "\n",
    "edges = []\n",
    "\n",
    "for personIds in small_groups['fraaktørid']:\n",
    "    combos = list(itertools.combinations(personIds, 2))\n",
    "    combos_weighted = [(min(n1,n2), max(n1,n2), 1) for n1, n2 in list(combos)]\n",
    "    edges.extend(combos_weighted)\n",
    "    \n",
    "# Unidirectional graph\n",
    "edges = [(min(n1,n2), max(n1,n2), w) for (n1,n2, w) in edges]\n",
    "\n",
    "\n",
    "weighted_edges = [\n",
    "    (getActorName(edge[0]),\n",
    "     getActorName(edge[1]),\n",
    "     sum(j for n1, n2, j in data)) \n",
    "        for edge, data in groupby(edges, key=lambda v: (v[0], v[1]))\n",
    "]\n",
    "\n",
    "colorBy = 'party'\n",
    "\n",
    "G_small = nx.Graph()\n",
    "G_small.add_weighted_edges_from(weighted_edges)\n",
    "\n",
    "actorColors = { name: colors.get(colorId, 'grey') for name, colorId in actors[['navn', colorBy]].values }\n",
    "nx.set_node_attributes(G_small, actorColors, 'group')"
   ]
  },
  {
   "cell_type": "code",
   "execution_count": 19,
   "metadata": {},
   "outputs": [
    {
     "data": {
      "image/png": "[encoded data removed]",
      "text/plain": [
       "<Figure size 288x288 with 1 Axes>"
      ]
     },
     "metadata": {
      "needs_background": "light"
     },
     "output_type": "display_data"
    }
   ],
   "source": [
    "_ = nw.visualize(G_small)"
   ]
  },
  {
   "cell_type": "code",
   "execution_count": 20,
   "metadata": {},
   "outputs": [
    {
     "data": {
      "image/png": "[encoded data removed]",
      "text/plain": [
       "<Figure size 5400x1500 with 1 Axes>"
      ]
     },
     "metadata": {
      "needs_background": "light"
     },
     "output_type": "display_data"
    }
   ],
   "source": [
    "from custom_plots import degree_distribution_histogram\n",
    "\n",
    "degree_distribution_histogram([v for person, v in G_small.degree(weight='weight')])"
   ]
  },
  {
   "cell_type": "markdown",
   "metadata": {},
   "source": [
    "This might seem somewhat more linear at the end, but still this is not anywhere near what a normal social network distribution looks like.\n",
    "We expect that this might be because the data about commities politicians work in severely lack information about anything that does not happen within the public scene in parlament.\n",
    "The next section will try to connect the politicians with more insight into what they have done around parlament."
   ]
  },
  {
   "cell_type": "markdown",
   "metadata": {},
   "source": [
    "#### The work background based network"
   ]
  },
  {
   "cell_type": "markdown",
   "metadata": {},
   "source": [
    "Each member of parlament has the option to write a biography - a discription of them as a person.\n",
    "Most of them do this, and it is shown both in the `Aktør` table in the database and on the website of the Danish parlament www.ft.dk.\n",
    "\n",
    "A description is an XML-encoded document with a lot of properties, where we are primarily interested in those that define what the politician has done in their career, as that might give us some insight into who they might have met and have some kind of relationship with.\n",
    "The documents define 4 types of \"work\" that a politician has done\n",
    "* `positionoftrust` - A title within a party of position of resposibility within the state\n",
    "* `parliamentarypositionoftrust` - Like `positionoftrust`, but specifically within FT \n",
    "* `occupation` - Some kind of \"normal\" not neccesarrily political work\n",
    "* `nomination` - A nomination from a party to some kind of election\n",
    "\n",
    "We will first try to parse these biographies for relevant politicians."
   ]
  },
  {
   "cell_type": "code",
   "execution_count": 21,
   "metadata": {},
   "outputs": [],
   "source": [
    "from collections import Counter\n",
    "import networkx as nx\n",
    "import netwulf as nw\n",
    "import pandas as pd\n",
    "\n",
    "# Extracting the people\n",
    "persons = actors[(actors['type'].isin(['Person', 'Privatperson'])) & (actors.id.isin(all_persons_in_period))]"
   ]
  },
  {
   "cell_type": "markdown",
   "metadata": {},
   "source": [
    "The information we wan't about the jobs that each politician has held is:\n",
    "* What their title was\n",
    "* Where they worked\n",
    "* When they started working there (we will limit ourselves to a year)\n",
    "* When they stopped working there\n",
    "\n",
    "As each individual politician is able to write in free text, we will need to parse this somehow.\n",
    "Due to timeconstraints we need to leave some of the jobs unparsed when the politicians get particularily imaginative about the text they write in their biographies.\n",
    "Fortuneatly it seems like most of these have been written by a few people (probably some secretary) as a lot of them are formatted in a similar way. \n",
    "\n",
    "The \"parsing\" below is the result of looking a lot at different examples of how the profiles were written.\n",
    "We have tried to describe how each part of the code works - but to really understand the what happens one needs both a basic understanding of Danish politics and of the specifics of how the data looks."
   ]
  },
  {
   "cell_type": "code",
   "execution_count": 22,
   "metadata": {},
   "outputs": [],
   "source": [
    "import re\n",
    "from bs4 import BeautifulSoup\n",
    "from timeout import timeout\n",
    "import os\n",
    "import string\n",
    "\n",
    "def match_year(s):\n",
    "    if (r := re.fullmatch(r'(\\d{4})', s)):\n",
    "        return r.group(1)\n",
    "    else:\n",
    "        return False\n",
    "    \n",
    "date_range_regex = re.compile('(\\d{4})-(\\d{4})')\n",
    "def match_year_range(s, strict=True):\n",
    "    if (r := date_range_regex.fullmatch(s) if strict else date_range_regex.match(s)):\n",
    "        return (r.group(1), r.group(2))\n",
    "    else:\n",
    "        return False\n",
    "\n",
    "\n",
    "org_regex = re.compile(r'((?:[0-9a-zæøåA-ZÆØÅ/&-]+\\s?)+)')\n",
    "\n",
    "def match_organization(s):\n",
    "    # The characters here has been found by trial and error\n",
    "    # For instance the forward slash (/) is needed because some Danish companies\n",
    "    # end their name with A/S if they are \n",
    "    pattern = r'[^\\.\\s0-9a-zæøåA-ZÆØÅ/&-]'\n",
    "    if not re.search(pattern, s):\n",
    "        return s.strip()\n",
    "    else:\n",
    "        return False\n",
    "\n",
    "title_regex = re.compile(r'((?:[0-9a-zæøåA-ZÆØÅ/&-]+\\s?)+)') \n",
    "\n",
    "def match_title(s):\n",
    "    pattern = r'[^\\.\\s0-9a-zæøåA-ZÆØÅ\\'/&-]'\n",
    "    if not re.search(pattern, s):\n",
    "        return s.strip()\n",
    "    else:\n",
    "        return False\n",
    "\n",
    "def match_regex(s):\n",
    "    r = re.search(\"^(.+)\\s{1}(?:af|for|i|,)\\s{1}(.+)\\xa0(\\d{4})-(\\d{4})\", s)\n",
    "    if r:\n",
    "        return {\n",
    "        'organization': r.group(2),\n",
    "        'title': r.group(1),\n",
    "        'year_from': int(r.group(3)),\n",
    "        'year_to': int(r.group(4)),\n",
    "        'case_matched': 'match_regex'\n",
    "    }\n",
    "    return False\n",
    "\n",
    "def comma_regex(s):\n",
    "    r = re.match(\"^(.+)\\s?,\\s(.+),\\xa0(\\d{4})-(\\d{4})\", s)\n",
    "    if r:\n",
    "        return {\n",
    "        'organization': r.group(2),\n",
    "        'title': r.group(1),\n",
    "        'year_from': int(r.group(3)),\n",
    "        'year_to': int(r.group(4)),\n",
    "        'case_matched': 'comma_regex'\n",
    "    }\n",
    "    return False\n",
    "\n",
    "def current_position_regex(s):\n",
    "    r = re.match(\"^(.+)\\s(?:af|for|i)\\s(.+)\\xa0fra\\s(\\d{4})\", s)\n",
    "    if r:\n",
    "        return {\n",
    "        'organization': r.group(2),\n",
    "        'title': r.group(1),\n",
    "        'year_from': int(r.group(3)),\n",
    "        'year_to': 2021,\n",
    "        'case_matched': 'current_position_regex'\n",
    "    }\n",
    "    return False\n",
    "    \n",
    "def match_candidacy(s):\n",
    "    \"\"\"\n",
    "        Trying to match things like\n",
    "            \"Kandidat for Socialdemokratiet i Åbenråkredsen 2000-2007.\"\n",
    "        returning the party \"Socialdemokratiet\" and the district \"Åbenråkredsen\" and the period (2000, 2007).\n",
    "    \"\"\"\n",
    "    possible_initials = [\n",
    "        (\"Medlem af\", \"Medlem\"),\n",
    "        (\"Kandidat for\", \"Kandidat\"),\n",
    "        (\"Kandidat ved\", \"Kandidat\"),\n",
    "        (\"Faglig sekretær\", \"Faglig sekretær\")\n",
    "    ]\n",
    "    \n",
    "    title = False\n",
    "    for init in possible_initials:\n",
    "        if s.startswith(init[0]):\n",
    "            title = init[1]\n",
    "            title_text = init[0]\n",
    "    if not title:\n",
    "        return False\n",
    "\n",
    "    \n",
    "    stripped_first_info = s.replace(title_text, \"\").strip()\n",
    "    \n",
    "    split_words = [\n",
    "        \" i \",\n",
    "        \" for \",\n",
    "        \" af \",\n",
    "    ]\n",
    "    \n",
    "    party = False\n",
    "    for split_word in split_words:\n",
    "        if split_word in stripped_first_info:\n",
    "            try:\n",
    "                party, remaining_info = stripped_first_info.split(split_word)\n",
    "            except:\n",
    "                return False\n",
    "    \n",
    "    if not party:\n",
    "        return False\n",
    "        \n",
    "    \n",
    "    \n",
    "    party = party.strip()\n",
    "    remaining_info.strip(\" .\")\n",
    "    if (r := re.search(r'(\\d{4})-(\\d{4})', remaining_info)):\n",
    "        years = (int(r.group(1)), int(r.group(2)))\n",
    "        data = f\"{years[0]}-{years[1]}\"\n",
    "    elif (r := re.search(r'(?:fra\\s)?(\\d{4})', remaining_info)):\n",
    "        years = (int(r.group(1)), int(r.group(1)))\n",
    "        data = r.group(1)\n",
    "    else:\n",
    "        return False\n",
    "    \n",
    "    district = remaining_info.replace(data, \"\").strip(\" .\")\n",
    "    \n",
    "    return {\n",
    "        'organization': party,# + \" - \" + district,\n",
    "        'title': title,\n",
    "        'year_from': years[0],\n",
    "        'year_to': years[1],\n",
    "        'case_matched': 'match_candidacy'\n",
    "    }\n",
    "\n"
   ]
  },
  {
   "cell_type": "markdown",
   "metadata": {},
   "source": [
    "With the parsing functions defined above, we can now try to parse the work lifes of all the politicians in the period we are investigating."
   ]
  },
  {
   "cell_type": "code",
   "execution_count": 23,
   "metadata": {},
   "outputs": [],
   "source": [
    "\n",
    "types = [\"parliamentarypositionoftrust\", \"occupation\", \"positionoftrust\", \"nomination\"]\n",
    "parsed = []\n",
    "unparsed = []\n",
    "\n",
    "for index, a in persons[~persons.biografi.isna()].iterrows():\n",
    "    xml = a[\"biografi\"]\n",
    "    soup = BeautifulSoup(xml) # from_encoding seemed to be specified by the provided data being unicode\n",
    "    for work_type in types:\n",
    "        for obj in soup.findAll(work_type):\n",
    "            add = True\n",
    "            result = {\n",
    "                \"person_id\": a.id,\n",
    "                \"name\": a.navn,\n",
    "                \"work_type\": work_type,\n",
    "            }\n",
    "            content = obj.contents[0].strip(\" \\t\")\n",
    "            splitted_comma = [ c.strip().strip(\".\") for c in content.split(\",\") ]\n",
    "            splitted_nonbreakingspace = [ c.strip().strip(\".\") for c in content.split(\"\\xa0\") ]\n",
    "            \n",
    "            if len(splitted_comma) == 3 and match_title(splitted_comma[0]) and match_organization(splitted_comma[1]) and match_year_range(splitted_comma[2], strict=False):\n",
    "                result[\"title\"] = match_title(splitted_comma[0])\n",
    "                result[\"organization\"] = match_title(splitted_comma[1])\n",
    "                result[\"year_from\"] = int(match_year_range(splitted_comma[2], strict=False)[0])\n",
    "                result[\"year_to\"] = int(match_year_range(splitted_comma[2], strict=False)[1]) \n",
    "                result[\"case_matched\"] = \"3-comma\"\n",
    "            elif (cancidacy_match := match_candidacy(content)):\n",
    "                result.update(cancidacy_match)\n",
    "            elif (regex_match := match_regex(content)):\n",
    "                result.update(regex_match)\n",
    "            elif (comma_regex_match := comma_regex(content)):\n",
    "                result.update(comma_regex_match)\n",
    "            elif (current_position_match := current_position_regex(content)):\n",
    "                result.update(current_position_match)\n",
    "            elif len(splitted_nonbreakingspace) == 2 and match_title(splitted_nonbreakingspace[0]) and match_year_range(splitted_nonbreakingspace[1], strict=False):\n",
    "                result[\"title\"] = match_title(splitted_nonbreakingspace[0])\n",
    "                result[\"organization\"] = soup.find(\"party\").contents[0]\n",
    "                result[\"year_from\"] = int(match_year_range(splitted_nonbreakingspace[1], strict=False)[0])\n",
    "                result[\"year_to\"] = int(match_year_range(splitted_nonbreakingspace[1], strict=False)[1]) \n",
    "                result[\"case_matched\"] = \"2-vbspace\"  \n",
    "            else:\n",
    "                add = False\n",
    "                result[\"content\"] = obj.contents[0]\n",
    "                unparsed.append(result.copy())\n",
    "            if add:\n",
    "                parsed.append(result.copy())"
   ]
  },
  {
   "cell_type": "markdown",
   "metadata": {},
   "source": [
    "We can then check how many of the jobs that we were able to parse - and how many we weren't."
   ]
  },
  {
   "cell_type": "code",
   "execution_count": 24,
   "metadata": {},
   "outputs": [
    {
     "data": {
      "text/plain": [
       "(316, 2184)"
      ]
     },
     "execution_count": 24,
     "metadata": {},
     "output_type": "execute_result"
    }
   ],
   "source": [
    "len(unparsed), len(parsed)"
   ]
  },
  {
   "cell_type": "markdown",
   "metadata": {},
   "source": [
    "Some organizations have multiple different ways of being refered to. Especially in this dataset the political party \"The Socialist Peoples Party\" which in Danish is \"Socialistisk Folkeparti\" but is often shortened to just \"SF\".\n",
    "This applies both to their party organization and their youth organisation.\n",
    "Further a lot of them wrote very precisely what political position they held within a party - for instance one could have written \"Formand for hovedbestyrelsen i sf ungdom\" which would translate to \"President of the main board in the Socialist Peoples Party Youth organization\".\n",
    "As the youth organizations are fairly small in Denmark, we have found it to be a fair assumptions, that people who have volunteered there (and later became professional politicians) probably knew each other.\n",
    "We will therefor shorten any written organization containing the full string corrosponding to common fairly small Danish political group to just that group. That is in our example, the organization would be shortened to just \"sf ungdom\".\n",
    "Further we do things like removing commas and trimming to make sure that two organizations match even if the formatting is a little weird."
   ]
  },
  {
   "cell_type": "code",
   "execution_count": 45,
   "metadata": {},
   "outputs": [],
   "source": [
    "import pandas as pd\n",
    "jobs = pd.DataFrame(parsed)\n",
    "jobs[jobs.case_matched == \"match_regex\"]\n",
    "\n",
    "organizations = [\n",
    "    \"danmarks socialdemokratiske ungdom\",\n",
    "    \"radikal ungdom\",\n",
    "    \"venstres ungdom\",\n",
    "    \"sf ungdom\",\n",
    "    \"metal ungdom\",\n",
    "    \"sfs ungdom\",\n",
    "    \"dansk ungdoms fællesråd\",\n",
    "    \"konservativ ungdom\",\n",
    "    \"liberal alliances ungdom\",\n",
    "    \"dansk folkepartis ungdom\",\n",
    "]\n",
    "\n",
    "def organization_cleaner(s):\n",
    "    # This special case is important to handle, as SF\n",
    "    # is a major political party in Denmark\n",
    "    if \"socialistisk folkeparti\" in s:\n",
    "        s = s.replace(\"socialistisk folkeparti\", \"sf\")\n",
    "    for org in organizations:\n",
    "        if org in s:\n",
    "            # They simply couldn't decide if they had an s\n",
    "            # at the end or not.. The trailing s in Danish \n",
    "            # is simply a grammatical genetive construction \n",
    "            if org == \"sfs ungdom\":\n",
    "                return \"sf ungdom\"\n",
    "            return org\n",
    "    \n",
    "    if (r := re.search(r\"\\(.+\\)\", s)):\n",
    "        s = s.replace(r.group(), \"\")\n",
    "    s = s.replace(\",\", \"\").strip() \n",
    "    \n",
    "    return s"
   ]
  },
  {
   "cell_type": "markdown",
   "metadata": {},
   "source": [
    "We then run the cleaner over all columns."
   ]
  },
  {
   "cell_type": "code",
   "execution_count": 26,
   "metadata": {},
   "outputs": [],
   "source": [
    "jobs[\"organization_original\"] = jobs.organization\n",
    "jobs.organization = jobs.organization.str.lower().map(organization_cleaner)"
   ]
  },
  {
   "cell_type": "markdown",
   "metadata": {},
   "source": [
    "We will then define the network from the jobs that we just found.\n",
    "We will link to people if they worked the same place at the same time.\n",
    "The strength of the connection will be defined as the amount of years that they worked together that place.\n",
    "That is, if Person A worked at Org X from 2010 to 2012 and Person B worked there from 2011 to 2017, then we will make a connection between them with weight $2$ since the worked together in 2011 and 2012 at Org X."
   ]
  },
  {
   "cell_type": "code",
   "execution_count": 27,
   "metadata": {},
   "outputs": [],
   "source": [
    "def year_overlap(years_1, years_2):\n",
    "    assert years_1[0] <= years_1[1]\n",
    "    assert years_2[0] <= years_2[1]\n",
    "    s1, e1 = years_1\n",
    "    s2, e2 = years_2\n",
    "    return max(0, 1 + min(e2, e1) - max(s2, s1))\n",
    "\n",
    "def connection_strength(job1, job2):\n",
    "    if job1.person_id == job_2.person_id:\n",
    "        return 0\n",
    "    if job1.organization == job2.organization:\n",
    "        return year_overlap( (job1.year_from, job1.year_to), (job2.year_from, job2.year_to))\n",
    "    "
   ]
  },
  {
   "cell_type": "code",
   "execution_count": 28,
   "metadata": {},
   "outputs": [],
   "source": [
    "from itertools import combinations\n",
    "\n",
    "links = []\n",
    "\n",
    "\n",
    "for org in list(set(jobs.organization.values)):\n",
    "    to_connect = combinations([ job for index, job in jobs[ jobs.organization == org ].iterrows()], 2)\n",
    "    for job_1, job_2 in to_connect:\n",
    "        strength = connection_strength(job_1, job_2)\n",
    "        if strength != 0:\n",
    "            links.append((job_1[\"name\"], job_2[\"name\"], strength))\n"
   ]
  },
  {
   "cell_type": "markdown",
   "metadata": {},
   "source": [
    "These can then be defined as a network."
   ]
  },
  {
   "cell_type": "code",
   "execution_count": 29,
   "metadata": {},
   "outputs": [],
   "source": [
    "import networkx as nx\n",
    "G = nx.Graph()\n",
    "G.add_weighted_edges_from(links)"
   ]
  },
  {
   "cell_type": "code",
   "execution_count": 33,
   "metadata": {},
   "outputs": [
    {
     "data": {
      "text/plain": [
       "(207, 3044)"
      ]
     },
     "execution_count": 33,
     "metadata": {},
     "output_type": "execute_result"
    }
   ],
   "source": [
    "len(G.nodes()), len(G.edges)"
   ]
  },
  {
   "cell_type": "markdown",
   "metadata": {},
   "source": [
    "We then add colors based on their party."
   ]
  },
  {
   "cell_type": "code",
   "execution_count": 30,
   "metadata": {},
   "outputs": [],
   "source": [
    "colorBy = 'party'\n",
    "colors = {\n",
    "    'S': '#a82721',\n",
    "    'V': '#254264',\n",
    "    'O': '#eac73e',\n",
    "    'DF': '#eac73e',\n",
    "    'RV': '#733280',\n",
    "    'SF': '#e07ea8',\n",
    "    'EL': '#e6801a',\n",
    "    'KF': '#96b226',\n",
    "    'NB': '#127b7f',\n",
    "    'LA': '#3fb2be',\n",
    "    'KD': '#8b8474',\n",
    "    'ALT': '#00FF00',\n",
    "    'CD': '#a70787',\n",
    "    'IA': '#ff0000',\n",
    "    'UFG': '#4d4d4d'\n",
    "}\n",
    "\n",
    "actorColors = { name: colors.get(colorId, 'grey') \n",
    "                   for name, colorId \n",
    "                   in actors[['navn', colorBy]].values\n",
    "              }\n",
    "nx.set_node_attributes(G, actorColors, 'group')"
   ]
  },
  {
   "cell_type": "markdown",
   "metadata": {},
   "source": [
    "And we can the visualize the network."
   ]
  },
  {
   "cell_type": "code",
   "execution_count": 31,
   "metadata": {},
   "outputs": [
    {
     "data": {
      "image/png": "[encoded data removed]",
      "text/plain": [
       "<Figure size 288x288 with 1 Axes>"
      ]
     },
     "metadata": {
      "needs_background": "light"
     },
     "output_type": "display_data"
    }
   ],
   "source": [
    "import netwulf\n",
    "_ = netwulf.visualize(G)"
   ]
  },
  {
   "cell_type": "markdown",
   "metadata": {},
   "source": [
    "It here becomes very apparent that the big parties become very tightly connected in the graph.\n",
    "That really isn't a surprise, as a lot of the Danish politicians have very long political careers typically only in a single party.\n",
    "This will bind them very closely with all the other politicians with the same property.\n",
    "\n",
    "We could then try to take a look at who the most influential people are.\n",
    "That is of course a very semantic question, but it is kind of like the initial question answered by Google when ranking web pages.\n",
    "There they defined a web page to be important if other important websited were linking to it.\n",
    "If we defined a similar metric and said someone to be well-connected if the were connected to other well-connected people, we could used the Page-Rank algorithm to apply some sort of score to measure how well placed the politician is (this algorithm i predefined in the NetworkX libary)."
   ]
  },
  {
   "cell_type": "code",
   "execution_count": 108,
   "metadata": {},
   "outputs": [
    {
     "data": {
      "text/plain": [
       "[('Søren Espersen', 0.012987147848913128),\n",
       " ('Lars Løkke Rasmussen', 0.012219728059896693),\n",
       " ('Nick Hækkerup', 0.012068496306769946),\n",
       " ('Kristian Thulesen Dahl', 0.01153811749804906),\n",
       " ('Mette Frederiksen', 0.011006862806093481),\n",
       " ('Mogens Jensen', 0.010917006226369307),\n",
       " ('Lars Christian Lilleholt', 0.010763514592769929),\n",
       " ('Inger Støjberg', 0.010633842721172184),\n",
       " ('Peter Skaarup', 0.0102073396456307),\n",
       " ('Mogens Lykketoft', 0.00996430636679063)]"
      ]
     },
     "execution_count": 108,
     "metadata": {},
     "output_type": "execute_result"
    }
   ],
   "source": [
    "page_ranks = list(nx.algorithms.link_analysis.pagerank_alg.pagerank(G).items())\n",
    "page_ranks.sort(key=lambda v: v[1], reverse=True)\n",
    "page_ranks[:10]"
   ]
  },
  {
   "cell_type": "markdown",
   "metadata": {},
   "source": [
    "For the newcomer to the Danish politican system, these are very influential people that score well on the list.\n",
    "Lars Løkke Rasmussen was the Danish prime minister at the time, Kristian Thuelsen Dahl was (and is at the time of writing) the leader of the Danish Peoples Party (the yellow one in the graph) which was the party providing the votes for Løkke to become prime minister.\n",
    "Almost all the people on the list have at some point been (or are today) ministers and one of them, Mette Frederiksen, is at the time of writing the new Danish prime minister."
   ]
  },
  {
   "cell_type": "markdown",
   "metadata": {},
   "source": [
    "Using Page-Rank wasn't really neccesarry as we get a very similar result by just finding the degree of each node."
   ]
  },
  {
   "cell_type": "code",
   "execution_count": 107,
   "metadata": {},
   "outputs": [
    {
     "data": {
      "text/plain": [
       "[('Lars Løkke Rasmussen', 213),\n",
       " ('Søren Espersen', 193),\n",
       " ('Nick Hækkerup', 190),\n",
       " ('Inger Støjberg', 178),\n",
       " ('Lars Christian Lilleholt', 177),\n",
       " ('Mette Frederiksen', 175),\n",
       " ('Kristian Jensen', 170),\n",
       " ('Kristian Thulesen Dahl', 168),\n",
       " ('Mogens Jensen', 165),\n",
       " ('Bertel Haarder', 158)]"
      ]
     },
     "execution_count": 107,
     "metadata": {},
     "output_type": "execute_result"
    }
   ],
   "source": [
    "dgs = list(G.degree(weight='weight'))\n",
    "dgs.sort(key=lambda v: v[1], reverse=True)\n",
    "dgs[:10]"
   ]
  },
  {
   "cell_type": "markdown",
   "metadata": {},
   "source": [
    "We can then take a look into if the distribution is power law distributed.\n",
    "We again plot the degree histogram in log-log."
   ]
  },
  {
   "cell_type": "code",
   "execution_count": 44,
   "metadata": {},
   "outputs": [
    {
     "data": {
      "image/png": "[encoded data removed]",
      "text/plain": [
       "<Figure size 5400x1500 with 1 Axes>"
      ]
     },
     "metadata": {
      "needs_background": "light"
     },
     "output_type": "display_data"
    }
   ],
   "source": [
    "degree_distribution_histogram(list(dict(G.degree(weight='weight')).values()), bins=50)"
   ]
  },
  {
   "cell_type": "markdown",
   "metadata": {},
   "source": [
    "The line doesn't look quite linear, but it begins to look like it at the end.\n",
    "This can possibly be attributed to the fact that most people in the network are at least connected to the other people in their party - making it more unlikely for an individual to have a very low amount of connections."
   ]
  },
  {
   "cell_type": "markdown",
   "metadata": {},
   "source": [
    "#### Community detection"
   ]
  },
  {
   "cell_type": "markdown",
   "metadata": {},
   "source": [
    "As we have now found a network that seems to in some way measure how well-connected people are, we can now look at how they are distributed into communities.\n",
    "The hope of this exercise is to see if there were surprising communities, that could tell us something about how the people in power work.\n",
    "\n",
    "For the purpose of community detection, we will just use the Louvain Partitioning. This choice is simply made to "
   ]
  },
  {
   "cell_type": "code",
   "execution_count": 109,
   "metadata": {},
   "outputs": [
    {
     "data": {
      "image/png": "[encoded data removed]",
      "text/plain": [
       "<Figure size 432x288 with 1 Axes>"
      ]
     },
     "metadata": {},
     "output_type": "display_data"
    }
   ],
   "source": [
    "import community as community_louvain\n",
    "import matplotlib.cm as cm\n",
    "import matplotlib.pyplot as plt\n",
    "\n",
    "# There is some level om randomness in this partitioning algorithm\n",
    "# Hence we pin the random state to make the results repeatable.\n",
    "partition = community_louvain.best_partition(G, random_state=420)\n",
    "pos = nx.spring_layout(G)\n",
    "cmap = cm.get_cmap('viridis', max(partition.values()) + 1)\n",
    "\n",
    "nx.draw_networkx_nodes(G, pos, partition.keys(), node_size=40,\n",
    "                       cmap=cmap, node_color=list(partition.values()))\n",
    "nx.draw_networkx_edges(G, pos, alpha=0.5)\n",
    "plt.show()"
   ]
  },
  {
   "cell_type": "markdown",
   "metadata": {},
   "source": [
    "We need them in a another format than what the `best_partition` provides."
   ]
  },
  {
   "cell_type": "code",
   "execution_count": 79,
   "metadata": {},
   "outputs": [],
   "source": [
    "louvain_partitions = [ [person for person, group in partition.items() if group == i]\n",
    "    for i in set(partition.values())\n",
    "]"
   ]
  },
  {
   "cell_type": "markdown",
   "metadata": {},
   "source": [
    "We can then check what modularity this partitioing gives rise to."
   ]
  },
  {
   "cell_type": "code",
   "execution_count": 80,
   "metadata": {},
   "outputs": [
    {
     "data": {
      "text/plain": [
       "0.5515707658787116"
      ]
     },
     "execution_count": 80,
     "metadata": {},
     "output_type": "execute_result"
    }
   ],
   "source": [
    "import networkx.algorithms.community.quality as nxquality\n",
    "\n",
    "nxquality.modularity(G, louvain_partitions)"
   ]
  },
  {
   "cell_type": "markdown",
   "metadata": {},
   "source": [
    "To give some context for this we will first calculate the more natural partitioning of political parties."
   ]
  },
  {
   "cell_type": "code",
   "execution_count": 81,
   "metadata": {},
   "outputs": [
    {
     "data": {
      "text/plain": [
       "0.4475969255799385"
      ]
     },
     "execution_count": 81,
     "metadata": {},
     "output_type": "execute_result"
    }
   ],
   "source": [
    "import numpy as np\n",
    "network_degree = pd.DataFrame(G.degree, columns=[\"name\", \"degree\"])\n",
    "\n",
    "party_lookup = dict(zip(persons.navn, persons.party))\n",
    "\n",
    "\n",
    "party_partitions = [ [person for person in sum(louvain_partitions, start=[]) if party_lookup[person] == i]\n",
    "    for i in set(party_lookup.values())\n",
    "]\n",
    "\n",
    "nxquality.modularity(G, party_partitions)"
   ]
  },
  {
   "cell_type": "markdown",
   "metadata": {},
   "source": [
    "We can then compare these two partitions further by making a confusion matrix."
   ]
  },
  {
   "cell_type": "code",
   "execution_count": 118,
   "metadata": {},
   "outputs": [
    {
     "data": {
      "text/html": [
       "<div>\n",
       "<style scoped>\n",
       "    .dataframe tbody tr th:only-of-type {\n",
       "        vertical-align: middle;\n",
       "    }\n",
       "\n",
       "    .dataframe tbody tr th {\n",
       "        vertical-align: top;\n",
       "    }\n",
       "\n",
       "    .dataframe thead th {\n",
       "        text-align: right;\n",
       "    }\n",
       "</style>\n",
       "<table border=\"1\" class=\"dataframe\">\n",
       "  <thead>\n",
       "    <tr style=\"text-align: right;\">\n",
       "      <th></th>\n",
       "      <th>S</th>\n",
       "      <th>V</th>\n",
       "      <th>DF</th>\n",
       "      <th>EL</th>\n",
       "      <th>LA</th>\n",
       "      <th>SF</th>\n",
       "      <th>RV</th>\n",
       "      <th>KF</th>\n",
       "      <th>ALT</th>\n",
       "      <th>UFG</th>\n",
       "      <th>JF</th>\n",
       "      <th>IA</th>\n",
       "    </tr>\n",
       "  </thead>\n",
       "  <tbody>\n",
       "    <tr>\n",
       "      <th>0</th>\n",
       "      <td>5.0</td>\n",
       "      <td>1.0</td>\n",
       "      <td>0.0</td>\n",
       "      <td>19.0</td>\n",
       "      <td>6.0</td>\n",
       "      <td>10.0</td>\n",
       "      <td>10.0</td>\n",
       "      <td>7.0</td>\n",
       "      <td>4.0</td>\n",
       "      <td>3.0</td>\n",
       "      <td>0.0</td>\n",
       "      <td>1.0</td>\n",
       "    </tr>\n",
       "    <tr>\n",
       "      <th>1</th>\n",
       "      <td>0.0</td>\n",
       "      <td>0.0</td>\n",
       "      <td>37.0</td>\n",
       "      <td>0.0</td>\n",
       "      <td>0.0</td>\n",
       "      <td>0.0</td>\n",
       "      <td>0.0</td>\n",
       "      <td>0.0</td>\n",
       "      <td>0.0</td>\n",
       "      <td>0.0</td>\n",
       "      <td>0.0</td>\n",
       "      <td>0.0</td>\n",
       "    </tr>\n",
       "    <tr>\n",
       "      <th>2</th>\n",
       "      <td>0.0</td>\n",
       "      <td>36.0</td>\n",
       "      <td>0.0</td>\n",
       "      <td>0.0</td>\n",
       "      <td>1.0</td>\n",
       "      <td>0.0</td>\n",
       "      <td>0.0</td>\n",
       "      <td>2.0</td>\n",
       "      <td>0.0</td>\n",
       "      <td>2.0</td>\n",
       "      <td>0.0</td>\n",
       "      <td>0.0</td>\n",
       "    </tr>\n",
       "    <tr>\n",
       "      <th>3</th>\n",
       "      <td>51.0</td>\n",
       "      <td>0.0</td>\n",
       "      <td>0.0</td>\n",
       "      <td>0.0</td>\n",
       "      <td>0.0</td>\n",
       "      <td>0.0</td>\n",
       "      <td>0.0</td>\n",
       "      <td>0.0</td>\n",
       "      <td>1.0</td>\n",
       "      <td>0.0</td>\n",
       "      <td>1.0</td>\n",
       "      <td>0.0</td>\n",
       "    </tr>\n",
       "    <tr>\n",
       "      <th>4</th>\n",
       "      <td>0.0</td>\n",
       "      <td>0.0</td>\n",
       "      <td>0.0</td>\n",
       "      <td>0.0</td>\n",
       "      <td>4.0</td>\n",
       "      <td>0.0</td>\n",
       "      <td>0.0</td>\n",
       "      <td>0.0</td>\n",
       "      <td>2.0</td>\n",
       "      <td>0.0</td>\n",
       "      <td>0.0</td>\n",
       "      <td>0.0</td>\n",
       "    </tr>\n",
       "    <tr>\n",
       "      <th>5</th>\n",
       "      <td>0.0</td>\n",
       "      <td>0.0</td>\n",
       "      <td>0.0</td>\n",
       "      <td>0.0</td>\n",
       "      <td>1.0</td>\n",
       "      <td>0.0</td>\n",
       "      <td>0.0</td>\n",
       "      <td>0.0</td>\n",
       "      <td>1.0</td>\n",
       "      <td>0.0</td>\n",
       "      <td>0.0</td>\n",
       "      <td>0.0</td>\n",
       "    </tr>\n",
       "  </tbody>\n",
       "</table>\n",
       "</div>"
      ],
      "text/plain": [
       "      S     V    DF    EL   LA    SF    RV   KF  ALT  UFG   JF   IA\n",
       "0   5.0   1.0   0.0  19.0  6.0  10.0  10.0  7.0  4.0  3.0  0.0  1.0\n",
       "1   0.0   0.0  37.0   0.0  0.0   0.0   0.0  0.0  0.0  0.0  0.0  0.0\n",
       "2   0.0  36.0   0.0   0.0  1.0   0.0   0.0  2.0  0.0  2.0  0.0  0.0\n",
       "3  51.0   0.0   0.0   0.0  0.0   0.0   0.0  0.0  1.0  0.0  1.0  0.0\n",
       "4   0.0   0.0   0.0   0.0  4.0   0.0   0.0  0.0  2.0  0.0  0.0  0.0\n",
       "5   0.0   0.0   0.0   0.0  1.0   0.0   0.0  0.0  1.0  0.0  0.0  0.0"
      ]
     },
     "execution_count": 118,
     "metadata": {},
     "output_type": "execute_result"
    }
   ],
   "source": [
    "D = np.zeros((len(louvain_partitions), len(party_partitions)))\n",
    "\n",
    "i = 0\n",
    "for c1 in louvain_partitions:\n",
    "    j=0\n",
    "    for c2 in party_partitions:\n",
    "        overlap = len(set(c1).intersection(c2))\n",
    "        D[i][j] = overlap\n",
    "        j += 1 \n",
    "    i += 1\n",
    "\n",
    "Ddf = pd.DataFrame(D, columns=set(party_lookup.values()))\n",
    "\n",
    "s = Ddf.sum()\n",
    "s = s[(s.index.notnull()) & (s.index != \"\") & (s.values != 0)]\n",
    "Ddf[s.sort_values(ascending=False).index]"
   ]
  },
  {
   "cell_type": "markdown",
   "metadata": {},
   "source": [
    "Here it becomes clear that a lot of the partitions are simply primarily the political parties.\n",
    "One of them though seems to be a collection of a lot of different parties (group 0).\n",
    "Later we will try to investigate this group and see what is characteristic about them."
   ]
  },
  {
   "cell_type": "markdown",
   "metadata": {},
   "source": [
    "To check if these two partitions are indeed better than random (as measured by modularity), we can try to define a configuration model and check how well the same partitions work on networks.\n",
    "A double-edge-swap configuration seems appropriate for this purpose."
   ]
  },
  {
   "cell_type": "code",
   "execution_count": 132,
   "metadata": {},
   "outputs": [
    {
     "data": {
      "image/png": "[encoded data removed]",
      "text/plain": [
       "<Figure size 432x288 with 1 Axes>"
      ]
     },
     "metadata": {
      "needs_background": "light"
     },
     "output_type": "display_data"
    }
   ],
   "source": [
    "def shuffle_graph(G: nx.classes.graph.Graph):\n",
    "    G_copy = G.copy()\n",
    "    return nx.double_edge_swap(G_copy, len(G.edges), max_tries=10000)\n",
    "\n",
    "scores = []\n",
    "for i in range(300):\n",
    "    G_swapped = shuffle_graph(G)\n",
    "    scores.append(nxquality.modularity(G_swapped, [ c for c in party_partitions ]))\n",
    "sum(scores)/len(scores)\n",
    "plt.hist(scores, bins=10, density=True, color='pink', label='Simulated pdf using double edge swap')\n",
    "plt.axvline(nxquality.modularity(G, party_partitions), color='r', label='Party partition modularity')\n",
    "plt.ylabel(\"Probability density\")\n",
    "plt.xlabel(\"Modularity of network\")\n",
    "plt.title('Configuration model modularity')\n",
    "plt.legend()\n",
    "plt.show()"
   ]
  },
  {
   "cell_type": "markdown",
   "metadata": {},
   "source": [
    "As expected the party partitioning is way better than random when using the double-edge-swap configuration model. "
   ]
  },
  {
   "cell_type": "code",
   "execution_count": 134,
   "metadata": {},
   "outputs": [
    {
     "data": {
      "text/plain": [
       "(['S', 'V', 'DF', 'EL', 'LA', 'SF', 'RV', 'KF', 'ALT', 'UFG', 'JF', 'IA'],\n",
       " [[5.0, 1.0, 0.0, 19.0, 6.0, 10.0, 10.0, 7.0, 4.0, 3.0, 0.0, 1.0],\n",
       "  [0.0, 0.0, 37.0, 0.0, 0.0, 0.0, 0.0, 0.0, 0.0, 0.0, 0.0, 0.0],\n",
       "  [0.0, 36.0, 0.0, 0.0, 1.0, 0.0, 0.0, 2.0, 0.0, 2.0, 0.0, 0.0],\n",
       "  [51.0, 0.0, 0.0, 0.0, 0.0, 0.0, 0.0, 0.0, 1.0, 0.0, 1.0, 0.0],\n",
       "  [0.0, 0.0, 0.0, 0.0, 4.0, 0.0, 0.0, 0.0, 2.0, 0.0, 0.0, 0.0],\n",
       "  [0.0, 0.0, 0.0, 0.0, 1.0, 0.0, 0.0, 0.0, 1.0, 0.0, 0.0, 0.0]])"
      ]
     },
     "execution_count": 134,
     "metadata": {},
     "output_type": "execute_result"
    }
   ],
   "source": [
    "# For export to the website\n",
    "Ddf[s.sort_values(ascending=False).index].columns.tolist(), Ddf[s.sort_values(ascending=False).index].values.tolist()"
   ]
  },
  {
   "cell_type": "code",
   "execution_count": 135,
   "metadata": {},
   "outputs": [],
   "source": [
    "# Export for display on the website\n",
    "import pickle\n",
    "with open(\"louvain_partitions.pkl\", \"wb\") as f:\n",
    "    pickle.dump(louvain_partitions, f)"
   ]
  },
  {
   "cell_type": "code",
   "execution_count": 42,
   "metadata": {},
   "outputs": [],
   "source": [
    "# Export for display on the website\n",
    "from graph2json import graph2json\n",
    "graph2json(G, 'network')"
   ]
  },
  {
   "cell_type": "markdown",
   "metadata": {},
   "source": [
    "## Language Analysis"
   ]
  },
  {
   "cell_type": "markdown",
   "metadata": {},
   "source": [
    "Having now analyzed how the politicians are grouped into communities, we can move on to analyzing each group.\n",
    "As the topic is politics, the most important thing that the politicians are doing is speaking.\n",
    "Hence we find it inherently important to analyze the language that they are using.\n",
    "\n",
    "Since the language in the speeches are almost exclusively Danish, we needed to adapt our analysis tools for the purpose of analysing Danish texts.\n",
    "Fortuneatly the sentiment analysis package Sentida (https://tidsskrift.dk/lwo/article/view/115711) is created just for this purpose.\n",
    "For stopwords we are using the ones built in to `nltk` for the Danish language. Sometimes we will add some stop words such as \"Hr.\" and \"Fru\" which mean \"Mr.\" and \"Mrs.\" respectively.\n",
    "These words are extremely common in the speeches, as the language in the parliament perscribes that the members speak formally epspecially when adressing one another.\n",
    "\n",
    "The data analyzed here are speeches from within parlament. As all speeches are transcribed and marked with who the speaker was, we have been able to analyze it without having to do a lot of manual tagging.\n",
    "As with the rest of the report, we are limiting the timeframe to speeches held within the election period between 2015 and 2019."
   ]
  },
  {
   "cell_type": "code",
   "execution_count": 136,
   "metadata": {},
   "outputs": [],
   "source": [
    "# To install the sentida module\n",
    "# `pip install sentida`"
   ]
  },
  {
   "cell_type": "code",
   "execution_count": 2,
   "metadata": {},
   "outputs": [],
   "source": [
    "from sentida import Sentida\n",
    "import re\n",
    "import pandas as pd"
   ]
  },
  {
   "cell_type": "markdown",
   "metadata": {},
   "source": [
    "In this notebook we limit ourselves to the first year of the election period (as this makes the code way more readable).\n",
    "The data presented on out website uses all of the data from the election period."
   ]
  },
  {
   "cell_type": "code",
   "execution_count": 3,
   "metadata": {},
   "outputs": [],
   "source": [
    "votingString = \"2015\"\n",
    "speechString = \"20151\""
   ]
  },
  {
   "cell_type": "code",
   "execution_count": 4,
   "metadata": {},
   "outputs": [],
   "source": [
    "meetings = pd.read_csv(\"data/speeches/\" + speechString + \".csv\")\n",
    "grouped = meetings[(meetings.role == \"medlem\")].groupby(\"party\")\n",
    "party_docs = dict(grouped.aggregate(\"text\").sum())\n",
    "party_docs_count = dict(grouped.aggregate(\"meeting\").count())"
   ]
  },
  {
   "cell_type": "code",
   "execution_count": 5,
   "metadata": {},
   "outputs": [],
   "source": [
    "grouped_person = meetings.groupby(\"name\")\n",
    "person_docs = dict(grouped_person.aggregate(\"text\").sum())\n",
    "person_docs_count = dict(grouped_person.aggregate(\"meeting\").count())"
   ]
  },
  {
   "cell_type": "markdown",
   "metadata": {},
   "source": [
    "In Denmark people usually vote for a party rather than an individual politician within that party.\n",
    "That makes it insteresting to understand what that party is actually talking about in parliament - and more importantly what makes them different from the other parties.\n",
    "Further it is interesting to understand how other metrics about how they speak.\n",
    "Here we have chosen to investigate the LIX-numbers for their speeches and the sentiment.\n",
    "\n",
    "We will however also investigate each individual politician. To follow up on the former section on network analysis, we will think of the louvain partitioning as another type of party.\n",
    "This might give us some insight into how these grops can be intepreted (perhaps they have a commonality that has bound their working life together, that is prevalent in the words that they use in their speeches)."
   ]
  },
  {
   "cell_type": "markdown",
   "metadata": {},
   "source": [
    "### Sentiment Analysis Per Party - Sentida"
   ]
  },
  {
   "cell_type": "markdown",
   "metadata": {},
   "source": [
    "This section will go into sentiment analysis on a political party by party basis."
   ]
  },
  {
   "cell_type": "markdown",
   "metadata": {},
   "source": [
    "First we define a sentiment analysis function to be used throughout the entire section on sentiment analysis."
   ]
  },
  {
   "cell_type": "code",
   "execution_count": 6,
   "metadata": {},
   "outputs": [],
   "source": [
    "def _sentiment_analysis_helper(text, output):\n",
    "    return Sentida().sentida(text, output=str(output), normal = True, speed = \"normal\")"
   ]
  },
  {
   "cell_type": "code",
   "execution_count": 7,
   "metadata": {},
   "outputs": [],
   "source": [
    "def SentAnalysis(collection, columnName: str, filename: str, party: bool, analyse: bool):\n",
    "    if(analyse):\n",
    "        SentAnalysis = dict([(person, _sentiment_analysis_helper(doc, \"total\")) for (person, doc) in collection.items()])\n",
    "        pd.DataFrame(list(SentAnalysis.items()),columns = [str(columnName),'Sentiment score']).to_csv(\"data/AppData/\" + speechString + \"/\"+str(filename)+\".csv\")\n",
    "    \n",
    "    person_sent_df = pd.read_csv(\"data/AppData/\" + speechString + \"/\"+str(filename)+\".csv\", index_col = False)\n",
    "    \n",
    "    #By using the output of \"total\" each partys sentiment becomes accumulative. \n",
    "    #This way parties that speak more are typically rewarded as such. \n",
    "    #Therefore the average sentiment of each party is found below:\n",
    "    \n",
    "    if(party):\n",
    "        meetingsPartyText = meetings.groupby(meetings[\"party\"]).aggregate(\"text\").sum()\n",
    "        person_sent_df[\"Percentage sentiment\"] = person_sent_df.apply(lambda row: (row[\"Sentiment score\"]/len(meetingsPartyText[row[\"party\"]]))*100, axis=1)\n",
    "    \n",
    "    if(party== False):\n",
    "        meetingsPartyText = meetings.groupby(meetings[\"name\"]).aggregate(\"text\").sum()\n",
    "        person_sent_df[\"Percentage sentiment\"] = person_sent_df.apply(lambda row: (row[\"Sentiment score\"]/len(meetingsPartyText[row[str(columnName)]]))*100, axis=1)\n",
    "    \n",
    "    person_sent_avg = dict(zip(person_sent_df[str(columnName)],person_sent_df[\"Percentage sentiment\"]))\n",
    "    person_sent = dict(zip(person_sent_df[str(columnName)],person_sent_df[\"Sentiment score\"]))\n",
    "    return(person_sent_avg, person_sent)"
   ]
  },
  {
   "cell_type": "markdown",
   "metadata": {},
   "source": [
    "Analysing sentiment for each party:"
   ]
  },
  {
   "cell_type": "code",
   "execution_count": 11,
   "metadata": {
    "collapsed": true,
    "jupyter": {
     "outputs_hidden": true
    }
   },
   "outputs": [
    {
     "name": "stderr",
     "output_type": "stream",
     "text": [
      "IOPub data rate exceeded.\n",
      "The notebook server will temporarily stop sending output\n",
      "to the client in order to avoid crashing it.\n",
      "To change this limit, set the config variable\n",
      "`--NotebookApp.iopub_data_rate_limit`.\n",
      "\n",
      "Current values:\n",
      "NotebookApp.iopub_data_rate_limit=1000000.0 (bytes/sec)\n",
      "NotebookApp.rate_limit_window=3.0 (secs)\n",
      "\n"
     ]
    },
    {
     "name": "stdout",
     "output_type": "stream",
     "text": [
      "7184.7924733564105\n",
      "9816.98418920359\n",
      "11673.655360098595\n",
      "1081.7798095238113\n",
      "275.70485978835956\n",
      "3637.448697178312\n",
      "5573.353110486202\n",
      "4968.206200274834\n",
      "10581.238756697141\n",
      "5492.370928078793\n",
      "594.6681777777777\n",
      "362.2343121693122\n",
      "62.18165343915343\n",
      "7562.340034730559\n",
      "Analysis done, saving...\n",
      "Loading analysis...\n",
      "Party\n"
     ]
    }
   ],
   "source": [
    "[party_sent_avg, party_sent] = SentAnalysis(party_docs, \"party\", \"partySent\", True, True)"
   ]
  },
  {
   "cell_type": "markdown",
   "metadata": {},
   "source": [
    "**Average sentiment of each party**"
   ]
  },
  {
   "cell_type": "code",
   "execution_count": 12,
   "metadata": {},
   "outputs": [
    {
     "data": {
      "text/plain": [
       "{'UFG': 0.6062362624466553,\n",
       " 'IA': 0.4623405560002441,\n",
       " 'SIU': 0.43676465283745336,\n",
       " 'T': 0.37293378238596553,\n",
       " 'ALT': 0.34253651555958825,\n",
       " 'JF': 0.3314357874476884,\n",
       " 'RV': 0.3136295814831661,\n",
       " 'KF': 0.29638391830185806,\n",
       " 'V': 0.27963521243779244,\n",
       " 'S': 0.2676054883733499,\n",
       " 'LA': 0.2618698810682469,\n",
       " 'SF': 0.2574555308925206,\n",
       " 'DF': 0.24408342731783503,\n",
       " 'EL': 0.217731632712758}"
      ]
     },
     "execution_count": 12,
     "metadata": {},
     "output_type": "execute_result"
    }
   ],
   "source": [
    "dict(sorted(party_sent_avg.items(), key=lambda item: item[1], reverse=True))"
   ]
  },
  {
   "cell_type": "markdown",
   "metadata": {},
   "source": [
    "**Total sentiment of each political party**"
   ]
  },
  {
   "cell_type": "code",
   "execution_count": 13,
   "metadata": {},
   "outputs": [
    {
     "data": {
      "text/plain": [
       "{'EL': 11673.655360098595,\n",
       " 'S': 10581.23875669714,\n",
       " 'DF': 9816.98418920359,\n",
       " 'V': 7562.340034730559,\n",
       " 'ALT': 7184.79247335641,\n",
       " 'LA': 5573.353110486202,\n",
       " 'SF': 5492.3709280787925,\n",
       " 'RV': 4968.206200274834,\n",
       " 'KF': 3637.4486971783117,\n",
       " 'IA': 1081.779809523811,\n",
       " 'SIU': 594.6681777777778,\n",
       " 'T': 362.2343121693122,\n",
       " 'JF': 275.7048597883596,\n",
       " 'UFG': 62.181653439153436}"
      ]
     },
     "execution_count": 13,
     "metadata": {},
     "output_type": "execute_result"
    }
   ],
   "source": [
    "dict(sorted(party_sent.items(), key=lambda item: item[1], reverse=True))"
   ]
  },
  {
   "cell_type": "markdown",
   "metadata": {},
   "source": [
    "### Sentiment Analysis Per Person - Sentida"
   ]
  },
  {
   "cell_type": "markdown",
   "metadata": {},
   "source": [
    "The same sentiment analysis is done, but for every individual politician in Folketinget."
   ]
  },
  {
   "cell_type": "code",
   "execution_count": null,
   "metadata": {
    "collapsed": true,
    "jupyter": {
     "outputs_hidden": true
    }
   },
   "outputs": [
    {
     "name": "stderr",
     "output_type": "stream",
     "text": [
      "IOPub data rate exceeded.\n",
      "The notebook server will temporarily stop sending output\n",
      "to the client in order to avoid crashing it.\n",
      "To change this limit, set the config variable\n",
      "`--NotebookApp.iopub_data_rate_limit`.\n",
      "\n",
      "Current values:\n",
      "NotebookApp.iopub_data_rate_limit=1000000.0 (bytes/sec)\n",
      "NotebookApp.rate_limit_window=3.0 (secs)\n",
      "\n"
     ]
    },
    {
     "name": "stdout",
     "output_type": "stream",
     "text": [
      "1081.7798095238113\n",
      "656.8498312169315\n",
      "327.29735767195695\n",
      "135.79622751322756\n",
      "41.67362219576721\n",
      "338.3614743306881\n",
      "18.952199999999998\n",
      "38.109582010582\n",
      "89.02599206349217\n",
      "337.7573201058201\n",
      "3.017023809523805\n",
      "1012.9513675724913\n",
      "567.1573535132258\n",
      "225.19033068783074\n",
      "175.67103650793644\n",
      "945.094861997354\n",
      "157.10117106746046\n",
      "103.95293650793653\n",
      "761.4346534285705\n",
      "699.2572931216929\n",
      "7.181455026455027\n",
      "1741.7137698197869\n",
      "355.3946117619045\n",
      "824.6077788359763\n",
      "162.3049874232804\n",
      "393.68878306878304\n",
      "13.729576719576716\n",
      "727.6611873015873\n",
      "160.99596560846567\n",
      "431.7516682539676\n",
      "37.07246031746031\n",
      "614.8048244603174\n",
      "27.366269841269855\n",
      "373.04711904761893\n",
      "115.41019841269852\n",
      "292.1935296296295\n",
      "728.3800192354527\n",
      "716.9013927671948\n",
      "654.8289111111119\n",
      "360.5897779920635\n",
      "1883.8315982844053\n",
      "344.9801190476187\n",
      "696.8405898730173\n",
      "684.9660444444436\n",
      "12.63841269841271\n",
      "421.59314524867756\n",
      "353.9652241507939\n",
      "992.499542537037\n",
      "55.45617724867727\n",
      "178.17100793650792\n",
      "681.0235742989469\n",
      "46.704576719576714\n",
      "655.8272544801582\n",
      "81.73535714285711\n",
      "482.7746114021155\n",
      "924.54933533598\n",
      "785.1026531111107\n",
      "853.4364120714298\n",
      "322.46726810026365\n",
      "283.93728359788327\n",
      "337.0871957671954\n",
      "694.8309142169313\n",
      "47.255158730158705\n",
      "100.05843915343925\n",
      "42.95738730158731\n",
      "480.43420105820036\n",
      "222.9903042328044\n",
      "552.0277153439151\n",
      "367.34202169312107\n",
      "306.1911153439155\n",
      "108.6643857142858\n",
      "399.1663884973545\n",
      "721.5515933862437\n",
      "451.5038288346563\n",
      "191.06306746031726\n",
      "595.8334830910043\n",
      "1475.3543878511923\n",
      "104.99571428571431\n",
      "958.9020920634929\n",
      "175.99841269841264\n",
      "911.854452380953\n",
      "445.52269591005233\n",
      "171.01475861640202\n",
      "230.24276455026418\n",
      "454.93768493915275\n",
      "38.25330680158727\n",
      "546.5822966349216\n",
      "1107.6136026904771\n",
      "157.87144179894182\n",
      "746.3809044695751\n",
      "443.34806288359766\n",
      "40.193756613756605\n",
      "1296.0930402161366\n",
      "1452.4253266402154\n",
      "414.04195925925865\n",
      "5.301190476190473\n",
      "836.6596915343904\n",
      "697.0593399841283\n",
      "477.20786766402153\n",
      "299.35437301587257\n",
      "598.9726542962953\n",
      "331.18689682539684\n",
      "136.21573174603193\n",
      "1771.8442117484233\n",
      "67.32354497354497\n",
      "155.85261640211647\n",
      "252.15904682539653\n",
      "347.84840857142893\n",
      "362.2343121693122\n",
      "315.6955767195766\n",
      "134.83783068783083\n",
      "52.4854100529101\n",
      "29.142089947089932\n",
      "57.28041005291003\n",
      "590.3118137566139\n",
      "915.4288347592611\n",
      "377.49577632804215\n",
      "124.10582433862432\n",
      "436.08923708068795\n",
      "767.8962852857154\n",
      "1637.8114593187852\n",
      "465.48081704298903\n",
      "217.4230232804233\n",
      "54.66232275132275\n",
      "399.66127174603173\n",
      "896.7716439550244\n",
      "1525.218986225997\n",
      "275.3105515899471\n",
      "49.826756769841275\n",
      "168.14217989418003\n",
      "389.44410029497317\n",
      "283.50378350740755\n",
      "314.4916957671957\n",
      "151.52330687830698\n",
      "67.85578042328044\n",
      "316.1860582010579\n",
      "37.08328042328042\n",
      "352.292588888889\n",
      "270.35041967724885\n",
      "101.31556750317462\n",
      "49.21305335714287\n",
      "474.059325396825\n",
      "388.1612728529085\n",
      "562.0581386291002\n",
      "206.65898148148136\n",
      "-10.586666666666702\n",
      "263.0518111111114\n",
      "1345.1144307333318\n",
      "41.26330158730159\n",
      "170.42615873015868\n",
      "179.510444015873\n",
      "100.33296666666668\n",
      "733.8186263015867\n",
      "213.10624514814793\n",
      "573.5575078015875\n",
      "225.33176076455004\n",
      "393.02088306878295\n",
      "69.51180846560851\n",
      "326.1544682539674\n",
      "2446.5055529603037\n",
      "512.1551975925929\n",
      "125.42394814814826\n",
      "52.65625661375659\n",
      "210.262113904762\n",
      "773.9950999455027\n",
      "1507.2940070661384\n",
      "745.3100410492058\n",
      "18.175634920634916\n",
      "1147.2368131851847\n"
     ]
    }
   ],
   "source": [
    "[person_sent_avg, person_sent] = SentAnalysis(person_docs, \"person\", \"personSent\", True, True)"
   ]
  },
  {
   "cell_type": "code",
   "execution_count": 12,
   "metadata": {
    "collapsed": true,
    "jupyter": {
     "outputs_hidden": true
    }
   },
   "outputs": [
    {
     "name": "stdout",
     "output_type": "stream",
     "text": [
      "14.805555555555564\n",
      "1081.7798095238113\n",
      "656.8498312169315\n",
      "327.29735767195695\n",
      "135.79622751322756\n",
      "41.67362219576721\n",
      "338.3614743306881\n",
      "18.952199999999998\n",
      "38.109582010582\n",
      "89.02599206349217\n",
      "337.7573201058201\n",
      "3.017023809523805\n",
      "1012.9513675724913\n",
      "567.1573535132258\n",
      "225.19033068783074\n",
      "175.67103650793644\n",
      "945.094861997354\n",
      "157.10117106746046\n",
      "103.95293650793653\n",
      "761.4346534285705\n",
      "699.2572931216929\n",
      "7.181455026455027\n",
      "1741.7137698197869\n",
      "355.3946117619045\n",
      "824.6077788359763\n",
      "162.3049874232804\n",
      "393.68878306878304\n",
      "13.729576719576716\n",
      "727.6611873015873\n",
      "160.99596560846567\n",
      "431.7516682539676\n",
      "37.07246031746031\n",
      "614.8048244603174\n",
      "27.366269841269855\n",
      "373.04711904761893\n",
      "115.41019841269852\n",
      "292.1935296296295\n",
      "728.3800192354527\n",
      "716.9013927671948\n",
      "654.8289111111119\n",
      "360.5897779920635\n",
      "1883.8315982844053\n",
      "344.9801190476187\n",
      "696.8405898730173\n",
      "684.9660444444436\n",
      "12.63841269841271\n",
      "421.59314524867756\n",
      "353.9652241507939\n",
      "992.499542537037\n",
      "55.45617724867727\n",
      "178.17100793650792\n",
      "681.0235742989469\n",
      "46.704576719576714\n",
      "655.8272544801582\n",
      "81.73535714285711\n",
      "482.7746114021155\n",
      "924.54933533598\n",
      "785.1026531111107\n",
      "853.4364120714298\n",
      "322.46726810026365\n",
      "283.93728359788327\n",
      "337.0871957671954\n",
      "694.8309142169313\n",
      "47.255158730158705\n",
      "100.05843915343925\n",
      "42.95738730158731\n",
      "480.43420105820036\n",
      "222.9903042328044\n",
      "552.0277153439151\n",
      "367.34202169312107\n",
      "306.1911153439155\n",
      "108.6643857142858\n",
      "399.1663884973545\n",
      "721.5515933862437\n",
      "451.5038288346563\n",
      "191.06306746031726\n",
      "595.8334830910043\n",
      "1475.3543878511923\n",
      "104.99571428571431\n",
      "958.9020920634929\n",
      "175.99841269841264\n",
      "911.854452380953\n",
      "445.52269591005233\n",
      "171.01475861640202\n",
      "230.24276455026418\n",
      "454.93768493915275\n",
      "38.25330680158727\n",
      "546.5822966349216\n",
      "1107.6136026904771\n",
      "157.87144179894182\n",
      "746.3809044695751\n",
      "443.34806288359766\n",
      "40.193756613756605\n",
      "1296.0930402161366\n",
      "1452.4253266402154\n",
      "414.04195925925865\n",
      "5.301190476190473\n",
      "836.6596915343904\n",
      "697.0593399841283\n",
      "477.20786766402153\n",
      "299.35437301587257\n",
      "598.9726542962953\n",
      "331.18689682539684\n",
      "136.21573174603193\n",
      "1771.8442117484233\n",
      "67.32354497354497\n",
      "155.85261640211647\n",
      "252.15904682539653\n",
      "347.84840857142893\n",
      "362.2343121693122\n",
      "315.6955767195766\n",
      "134.83783068783083\n",
      "52.4854100529101\n",
      "29.142089947089932\n",
      "57.28041005291003\n",
      "590.3118137566139\n",
      "915.4288347592611\n",
      "377.49577632804215\n",
      "124.10582433862432\n",
      "436.08923708068795\n",
      "767.8962852857154\n",
      "1637.8114593187852\n",
      "465.48081704298903\n",
      "217.4230232804233\n",
      "54.66232275132275\n",
      "399.66127174603173\n",
      "896.7716439550244\n",
      "1525.218986225997\n",
      "275.3105515899471\n",
      "49.826756769841275\n",
      "168.14217989418003\n",
      "389.44410029497317\n",
      "283.50378350740755\n",
      "314.4916957671957\n",
      "151.52330687830698\n",
      "67.85578042328044\n",
      "316.1860582010579\n",
      "37.08328042328042\n",
      "352.292588888889\n",
      "270.35041967724885\n",
      "101.31556750317462\n",
      "49.21305335714287\n",
      "474.059325396825\n",
      "388.1612728529085\n",
      "562.0581386291002\n",
      "206.65898148148136\n",
      "-10.586666666666702\n",
      "263.0518111111114\n",
      "1345.1144307333318\n",
      "41.26330158730159\n",
      "170.42615873015868\n",
      "179.510444015873\n",
      "100.33296666666668\n",
      "733.8186263015867\n",
      "213.10624514814793\n",
      "573.5575078015875\n",
      "225.33176076455004\n",
      "393.02088306878295\n",
      "69.51180846560851\n",
      "326.1544682539674\n",
      "2446.5055529603037\n",
      "512.1551975925929\n",
      "125.42394814814826\n",
      "52.65625661375659\n",
      "210.262113904762\n",
      "773.9950999455027\n",
      "1507.2940070661384\n",
      "745.3100410492058\n",
      "18.175634920634916\n",
      "1147.2368131851847\n",
      "1081.4472940793648\n",
      "67.75931216931217\n",
      "839.8975811957665\n",
      "27.113571428571436\n",
      "813.9996050396837\n",
      "396.11733756613694\n",
      "4.908571428571432\n",
      "275.70485978835956\n",
      "864.716444706349\n",
      "782.4300343915346\n",
      "54.123094179894174\n",
      "409.2408778783066\n",
      "138.88915767195783\n",
      "965.3125153439166\n",
      "223.24845090742798\n",
      "58.556957671957626\n",
      "497.2072165767193\n",
      "664.2327394894177\n",
      "716.6037915202393\n",
      "468.94821428571356\n",
      "9.32611111111111\n",
      "6.095074074074067\n",
      "578.2209976375658\n",
      "424.56865911904714\n",
      "287.79772126984074\n",
      "552.069612142857\n",
      "589.3919841269836\n",
      "48.41011353968252\n",
      "16.373333333333328\n",
      "355.70735392857137\n",
      "342.29642063492076\n",
      "419.68111711640233\n",
      "109.65145026455026\n",
      "303.4652759878302\n"
     ]
    }
   ],
   "source": [
    "person_sent = dict([(person, SentAnal(doc, \"total\")) for (person, doc) in person_docs.items()])"
   ]
  },
  {
   "cell_type": "code",
   "execution_count": 13,
   "metadata": {},
   "outputs": [],
   "source": [
    "pd.DataFrame(list(person_sent.items()),columns = ['Person','Sentiment score']).to_csv(\"data/AppData/\" + speechString + \"/PersonSentimentTotal\")"
   ]
  },
  {
   "cell_type": "code",
   "execution_count": 14,
   "metadata": {},
   "outputs": [],
   "source": [
    "person_sent_df = pd.read_csv(\"data/AppData/\" + speechString + \"/PersonSentimentTotal\", index_col = False)\n",
    "meetingsPersonText = meetings.groupby(meetings[\"name\"]).aggregate(\"text\").sum()\n",
    "person_sent_df[\"Percentage sentiment\"] = person_sent_df.apply(lambda row: (row[\"Sentiment score\"]/len(meetingsPersonText[row[\"Person\"]]))*100, axis=1)\n",
    "person_sent_avg = dict(zip(person_sent_df[\"Person\"],person_sent_df[\"Percentage sentiment\"]))\n",
    "person_sent = dict(zip(person_sent_df[\"Person\"],person_sent_df[\"Sentiment score\"]))"
   ]
  },
  {
   "cell_type": "markdown",
   "metadata": {},
   "source": [
    "**Average sentiment of persons in the danish parliment**"
   ]
  },
  {
   "cell_type": "code",
   "execution_count": 15,
   "metadata": {
    "collapsed": true,
    "jupyter": {
     "outputs_hidden": true
    }
   },
   "outputs": [
    {
     "data": {
      "text/plain": [
       "{'Jan Erik Messmann': 0.8252734671700788,\n",
       " 'Sisse Marie Welling': 0.6770443349753699,\n",
       " 'Daniel Toft Jakobsen': 0.5550600436810947,\n",
       " 'Roger Matthisen': 0.5362402039356772,\n",
       " 'Lars Christian Lilleholt': 0.5246535010154891,\n",
       " 'Jan Rytkjær Callesen': 0.518871691044659,\n",
       " 'Malou Lunderød': 0.5106376370613269,\n",
       " 'Hans Christian Thoning': 0.5027212688310545,\n",
       " 'Anders Johansson': 0.48940868386934644,\n",
       " 'Pia Kjærsgaard': 0.48691522598473563,\n",
       " 'Thomas Jensen': 0.4852295063013064,\n",
       " 'Jan Johansen': 0.4844506592109966,\n",
       " 'Jens Henrik Thulesen Dahl': 0.48028237574103344,\n",
       " 'Merete Dea Larsen': 0.47429347289650975,\n",
       " 'Anni Matthiesen': 0.46941381194087817,\n",
       " 'Nikolaj Amstrup': 0.4662083763392717,\n",
       " 'Aaja Chemnitz Larsen': 0.4623405560002441,\n",
       " 'Kristian Pihl Lorentzen': 0.4492500237056033,\n",
       " 'Aleqa Hammond': 0.44863727287543986,\n",
       " 'Ulla Tørnæs': 0.44216917137292294,\n",
       " 'Annette Lind': 0.4387462030628957,\n",
       " 'Ane Halsboe-Jørgensen': 0.43688796680497927,\n",
       " 'Maja Panduro': 0.42967998405984525,\n",
       " 'Morten Marinus': 0.4185944285278295,\n",
       " 'Ellen Trane Nørby': 0.41747478574679253,\n",
       " 'Mette Hjermind Dencker': 0.4134711550046231,\n",
       " 'Rasmus Helveg Petersen': 0.41256958876248995,\n",
       " 'Brian Mikkelsen': 0.4091302037642062,\n",
       " 'Erling Bonnesen': 0.4091149188574646,\n",
       " 'Mette Bock': 0.40626030120901613,\n",
       " 'Leif Mikkelsen': 0.4032520751809919,\n",
       " 'Rasmus Nordqvist': 0.4027656364075446,\n",
       " 'Lea Wermelin': 0.40161310072160855,\n",
       " 'Hans Andersen': 0.39997967493385755,\n",
       " 'Henrik Dam Kristensen': 0.39988466239919374,\n",
       " 'Karin Gaardsted': 0.39739452204396997,\n",
       " 'Per Husted': 0.39611501955746947,\n",
       " 'Jens Joel': 0.3952484608594183,\n",
       " 'Uffe Elbæk': 0.39472838315654113,\n",
       " 'Carsten Bach': 0.39466595163124607,\n",
       " 'Orla Hav': 0.3934937479416618,\n",
       " 'Laura Lindahl': 0.39027108154013995,\n",
       " 'Anders Samuelsen': 0.3874093352771889,\n",
       " 'Jakob Engel-Schmidt': 0.38485880911108244,\n",
       " 'Torsten Gejl': 0.3845833040489297,\n",
       " 'Marianne Jelved': 0.38201501394298776,\n",
       " 'Karen Ellemann': 0.38136630073397676,\n",
       " 'Bertel Haarder': 0.3783121893117694,\n",
       " 'Mikkel Dencker': 0.37689404236088797,\n",
       " 'Eva Kjer Hansen': 0.3759785813257255,\n",
       " 'Thomas Danielsen': 0.37381582498522403,\n",
       " 'Christine Antorini': 0.37339071850902134,\n",
       " 'Magni Arge': 0.37293378238596553,\n",
       " 'Jørn Neergaard Larsen': 0.3693013722404489,\n",
       " 'Carl Holst': 0.36839229041015137,\n",
       " 'Kasper Roug': 0.3682476307969066,\n",
       " 'Dorthe Ullemose': 0.3680735688133134,\n",
       " 'Trine Torp': 0.36575919393582595,\n",
       " 'Karen J. Klint': 0.3629158012333233,\n",
       " 'Helle Thorning-Schmidt': 0.36144718079321336,\n",
       " 'Sophie Løhde': 0.3598636923207809,\n",
       " 'René Christensen': 0.35978085595277864,\n",
       " 'Mai Mercado': 0.3565534830574367,\n",
       " 'Christian Poll': 0.35649927535093023,\n",
       " 'Morten Løkkegaard': 0.35274449797074603,\n",
       " 'Troels Lund Poulsen': 0.3520397463457512,\n",
       " 'Alex Ahrendtsen': 0.35158483830184867,\n",
       " 'Flemming Møller Mortensen': 0.34864084795110534,\n",
       " 'Claus Kvist Hansen': 0.3484534891856929,\n",
       " 'Rasmus Prehn': 0.34693337974994215,\n",
       " 'Karin Nødgaard': 0.34679815720544077,\n",
       " 'Ib Poulsen': 0.34433735157289086,\n",
       " 'Julie Skovsby': 0.343909971456647,\n",
       " 'Pernille Bendixen': 0.33681059037580774,\n",
       " 'Kaare Dybvad': 0.3360479878914949,\n",
       " 'Martin Lidegaard': 0.3359192920103916,\n",
       " 'Magnus Heunicke': 0.335782059520067,\n",
       " 'Jane Heitmann': 0.33394097440584447,\n",
       " 'Lars Løkke Rasmussen': 0.33296839218337415,\n",
       " 'Carolina Magdalene Maier': 0.3327439654897942,\n",
       " 'Kirsten Brosbøl': 0.3327022317172139,\n",
       " 'Sjúrður Skaale': 0.3314357874476884,\n",
       " 'Christina Egelund': 0.3267642060314763,\n",
       " 'Merete Riisager': 0.32622746857075485,\n",
       " 'Simon Kollerup': 0.3255509201207608,\n",
       " 'Torsten Schack Pedersen': 0.3249739061126908,\n",
       " 'Sofie Carsten Nielsen': 0.323776526444685,\n",
       " 'Benny Engelbrecht': 0.32210973485009614,\n",
       " 'Karina Adsbøl': 0.32184280949895505,\n",
       " 'Johannes Lebech': 0.3211197960643326,\n",
       " 'Jacob Jensen': 0.31934603762141117,\n",
       " 'Marlene Harpsøe': 0.3179049083518167,\n",
       " 'Kristian Thulesen Dahl': 0.31749492692932135,\n",
       " 'Hans Christian Schmidt': 0.3173386910378387,\n",
       " 'Erik Christensen': 0.31721893110446037,\n",
       " 'Søren Pape Poulsen': 0.3168983776572801,\n",
       " 'Rasmus Vestergaard Madsen': 0.3155492173721341,\n",
       " 'Karsten Lauritzen': 0.3155072958572308,\n",
       " 'Esben Lunde Larsen': 0.314054396607218,\n",
       " 'Eva Flyvholm': 0.31240943060366205,\n",
       " 'Kristian Jensen': 0.31186669623480157,\n",
       " 'Mette Abildgaard': 0.31061114326907935,\n",
       " 'Mette Gjerskov': 0.31040840250337204,\n",
       " 'Mette Frederiksen': 0.3076301781012661,\n",
       " 'René Gade': 0.3072267264993096,\n",
       " 'Andreas Steenberg': 0.30608482910189344,\n",
       " 'Ida Auken': 0.3057741733922675,\n",
       " 'Carsten Kudsk': 0.30572392620072486,\n",
       " 'Yildiz Akdogan': 0.30492616870008415,\n",
       " 'Kim Christiansen': 0.30406500571549905,\n",
       " 'Louise Schack Elholm': 0.30354853532595855,\n",
       " 'Leif Lahn Jensen': 0.3025496422761941,\n",
       " 'Morten Bødskov': 0.3024550052296877,\n",
       " 'Søren Egge Rasmussen': 0.3011735774838516,\n",
       " 'Bjarne Laustsen': 0.30115723189319143,\n",
       " 'Jakob Sølvhøj': 0.30107286022685853,\n",
       " 'Hans Kristian Skibby': 0.2999318065555499,\n",
       " 'Mattias Tesfaye': 0.2995931139292332,\n",
       " 'Josephine Fock': 0.29901427786674517,\n",
       " 'Susanne Eilersen': 0.2983655374263326,\n",
       " 'Morten Østergaard': 0.2974790914907951,\n",
       " 'Mette Reissmann': 0.29627236648330385,\n",
       " 'Jakob Ellemann-Jensen': 0.2961512665542528,\n",
       " 'Claus Hjort Frederiksen': 0.29514694749843323,\n",
       " 'Peter Christensen': 0.29137155983558427,\n",
       " 'Christian Juhl': 0.28837657537431977,\n",
       " 'Peter Juel Jensen': 0.28681299420160633,\n",
       " 'Lise Bech': 0.28651974708918143,\n",
       " 'Henrik Sass Larsen': 0.2853756368054303,\n",
       " 'Villum Christensen': 0.2848810852145714,\n",
       " 'Pia Olsen Dyhr': 0.28466825498579473,\n",
       " 'Jacob Mark': 0.2842788612247485,\n",
       " 'May-Britt Kattrup': 0.28361991035797457,\n",
       " 'Marcus Knuth': 0.2826974310901635,\n",
       " 'Mogens Jensen': 0.28210326719970763,\n",
       " 'Ulla Sandbæk': 0.2816145625275682,\n",
       " 'Peter Hummelgaard Thomsen': 0.2802941487690224,\n",
       " 'Lennart Damsbo-Andersen': 0.27939969180569796,\n",
       " 'Dennis Flydtkjær': 0.279345000390897,\n",
       " 'Stine Brix': 0.279265246740393,\n",
       " 'Søren Gade': 0.2780350300173668,\n",
       " 'Malte Larsen': 0.27750792138418695,\n",
       " 'Simon Emil Ammitzbøll': 0.2744259825027,\n",
       " 'Jeppe Jakobsen': 0.27367570485061404,\n",
       " 'Martin Henriksen': 0.2721164465884162,\n",
       " 'Bent Bøgsted': 0.2708850054034091,\n",
       " 'Lotte Rod': 0.2685228279613619,\n",
       " 'Jonas Dahl': 0.2650493027571071,\n",
       " 'Anne Paulin': 0.2626616721385484,\n",
       " 'Pernille Schnoor': 0.2613586357203019,\n",
       " 'Joachim B. Olsen': 0.25946599975772094,\n",
       " 'Ole Birk Olesen': 0.2579668343258216,\n",
       " 'Inger Støjberg': 0.2562945678807497,\n",
       " 'Rasmus Horn Langhoff': 0.2546501882119948,\n",
       " 'Jesper Petersen': 0.2501904719654985,\n",
       " 'Maria Reumert Gjerding': 0.24986457263402062,\n",
       " 'Jeppe Bruus': 0.24985853740519728,\n",
       " 'Dan Jørgensen': 0.24980135633018644,\n",
       " 'Karsten Hønge': 0.2488707099077617,\n",
       " 'Finn Sørensen': 0.2465141559779014,\n",
       " 'Zenia Stampe': 0.24641922532507524,\n",
       " 'Christian Rabjerg Madsen': 0.24483713840986018,\n",
       " 'Henrik Dahl': 0.24482783402933456,\n",
       " 'Peter Kofod Poulsen': 0.24200644273667216,\n",
       " 'Rune Lund': 0.24059559862493343,\n",
       " 'Pia Adelsteen': 0.24055882658020042,\n",
       " 'Kenneth Kristensen Berth': 0.24023718701243227,\n",
       " 'Nicolai Wammen': 0.23917697004832264,\n",
       " 'Jan E. Jørgensen': 0.23825687742967355,\n",
       " 'Lisbeth Bech Poulsen': 0.23674906558050351,\n",
       " 'Britt Bager': 0.23474563843682456,\n",
       " 'Henrik Brodersen': 0.23321492597955032,\n",
       " 'Michael Aastrup Jensen': 0.23211188995292945,\n",
       " 'Pelle Dragsted': 0.23009968382944507,\n",
       " 'Søren Søndergaard': 0.2293212853957225,\n",
       " 'Pernille Rosenkrantz-Theil': 0.227211153603363,\n",
       " 'Troels Ravn': 0.22534149578588894,\n",
       " 'Jesper Kiel': 0.2250432541819281,\n",
       " ' ': 0.2234800838574425,\n",
       " 'Liselott Blixt': 0.2226720430936628,\n",
       " 'Peter Skaarup': 0.2220824551616885,\n",
       " 'Rasmus Jarlov': 0.21872115135811518,\n",
       " 'Holger K. Nielsen': 0.21244189656931226,\n",
       " 'Henning Hyllested': 0.21244114629165067,\n",
       " 'Emrah Tuncer': 0.21185901498430199,\n",
       " 'Peder Hvelplund': 0.21171512709348353,\n",
       " 'Christian Langballe': 0.20728035867039035,\n",
       " 'Naser Khader': 0.20601580430795932,\n",
       " 'Søren Espersen': 0.193955371195736,\n",
       " 'Steen Holm Iversen': 0.19199394884673351,\n",
       " 'Pernille Skipper': 0.18230205185255888,\n",
       " 'Sarah Glerup': 0.18178727072458226,\n",
       " 'Marie Krarup': 0.1807436565574745,\n",
       " 'Nick Hækkerup': 0.17532284817466368,\n",
       " 'Nikolaj Villumsen': 0.17156223524002479,\n",
       " 'Søren Pind': 0.16746488994791695,\n",
       " 'Karina Due': 0.16421252114868973,\n",
       " 'Johanne Schmidt-Nielsen': 0.1490136236025863,\n",
       " 'Trine Bramsen': 0.1455567520406635,\n",
       " 'Preben Bang Henriksen': 0.14295119405070522,\n",
       " 'Astrid Krag': 0.13826873554187927,\n",
       " 'Tilde Bork': 0.1276188038960232,\n",
       " 'Lars Aslan Rasmussen': 0.10591789163217728,\n",
       " 'Pause Pause': -0.3338589298854211}"
      ]
     },
     "execution_count": 15,
     "metadata": {},
     "output_type": "execute_result"
    }
   ],
   "source": [
    "sorted(person_sent_avg.items(), key=lambda item: item[1], reverse=True)[:5]"
   ]
  },
  {
   "cell_type": "markdown",
   "metadata": {},
   "source": [
    "**Total sentiment of persons in the danish parliment**"
   ]
  },
  {
   "cell_type": "code",
   "execution_count": 16,
   "metadata": {
    "collapsed": true,
    "jupyter": {
     "outputs_hidden": true
    }
   },
   "outputs": [
    {
     "data": {
      "text/plain": [
       "{'Pia Kjærsgaard': 2446.505552960304,\n",
       " 'Finn Sørensen': 1883.8315982844051,\n",
       " 'Lisbeth Bech Poulsen': 1771.844211748423,\n",
       " 'Christian Juhl': 1741.7137698197866,\n",
       " 'Martin Lidegaard': 1637.8114593187854,\n",
       " 'Mette Bock': 1525.218986225997,\n",
       " 'Rasmus Nordqvist': 1507.2940070661386,\n",
       " 'Josephine Fock': 1475.3543878511925,\n",
       " 'Kristian Pihl Lorentzen': 1452.4253266402154,\n",
       " 'Pelle Dragsted': 1345.1144307333318,\n",
       " 'Kristian Jensen': 1296.0930402161364,\n",
       " 'René Christensen': 1147.2368131851847,\n",
       " 'Karsten Lauritzen': 1107.6136026904774,\n",
       " 'Aaja Chemnitz Larsen': 1081.779809523811,\n",
       " 'René Gade': 1081.4472940793648,\n",
       " 'Benny Engelbrecht': 1012.9513675724913,\n",
       " 'Henning Hyllested': 992.4995425370371,\n",
       " 'Søren Egge Rasmussen': 965.3125153439166,\n",
       " 'Jørn Neergaard Larsen': 958.9020920634928,\n",
       " 'Brian Mikkelsen': 945.094861997354,\n",
       " 'Inger Støjberg': 924.5493353359801,\n",
       " 'Maria Reumert Gjerding': 915.4288347592613,\n",
       " 'Karen Ellemann': 911.854452380953,\n",
       " 'Mette Abildgaard': 896.7716439550244,\n",
       " 'Sofie Carsten Nielsen': 864.7164447063491,\n",
       " 'Jacob Mark': 853.4364120714298,\n",
       " 'Rune Lund': 839.8975811957664,\n",
       " 'Lars Christian Lilleholt': 836.6596915343904,\n",
       " 'Christian Poll': 824.6077788359762,\n",
       " 'Simon Emil Ammitzbøll': 813.9996050396837,\n",
       " 'Jacob Jensen': 785.1026531111107,\n",
       " 'Sophie Løhde': 782.4300343915346,\n",
       " 'Rasmus Jarlov': 773.9950999455028,\n",
       " 'Martin Henriksen': 767.8962852857153,\n",
       " 'Carolina Magdalene Maier': 761.4346534285705,\n",
       " 'Kenneth Kristensen Berth': 746.3809044695752,\n",
       " 'Rasmus Prehn': 745.3100410492058,\n",
       " 'Pernille Skipper': 733.8186263015867,\n",
       " 'Erling Bonnesen': 728.3800192354528,\n",
       " 'Claus Hjort Frederiksen': 727.6611873015872,\n",
       " 'Joachim B. Olsen': 721.5515933862438,\n",
       " 'Esben Lunde Larsen': 716.9013927671948,\n",
       " 'Søren Søndergaard': 716.6037915202393,\n",
       " 'Carsten Bach': 699.2572931216928,\n",
       " 'Lars Løkke Rasmussen': 697.0593399841283,\n",
       " 'Hans Andersen': 696.8405898730173,\n",
       " 'Jan E. Jørgensen': 694.8309142169313,\n",
       " 'Hans Christian Schmidt': 684.9660444444436,\n",
       " 'Henrik Dam Kristensen': 681.0235742989469,\n",
       " 'Søren Pind': 664.2327394894178,\n",
       " 'Aleqa Hammond': 656.8498312169315,\n",
       " 'Holger K. Nielsen': 655.8272544801582,\n",
       " 'Eva Flyvholm': 654.8289111111119,\n",
       " 'Dennis Flydtkjær': 614.8048244603174,\n",
       " 'Leif Lahn Jensen': 598.9726542962952,\n",
       " 'Jonas Dahl': 595.8334830910043,\n",
       " 'Marcus Knuth': 590.3118137566139,\n",
       " 'Troels Lund Poulsen': 589.3919841269836,\n",
       " 'Torsten Gejl': 578.2209976375658,\n",
       " 'Peter Hummelgaard Thomsen': 573.5575078015876,\n",
       " 'Bent Bøgsted': 567.1573535132258,\n",
       " 'Ole Birk Olesen': 562.0581386291002,\n",
       " 'Trine Torp': 552.069612142857,\n",
       " 'Jens Joel': 552.0277153439151,\n",
       " 'Karsten Hønge': 546.5822966349216,\n",
       " 'Pia Olsen Dyhr': 512.1551975925928,\n",
       " 'Søren Pape Poulsen': 497.2072165767193,\n",
       " 'Ida Auken': 482.77461140211545,\n",
       " 'Jane Heitmann': 480.43420105820036,\n",
       " 'Laura Lindahl': 477.20786766402153,\n",
       " 'Nikolaj Amstrup': 474.05932539682505,\n",
       " 'Thomas Danielsen': 468.9482142857137,\n",
       " 'Mattias Tesfaye': 465.480817042989,\n",
       " 'Karina Adsbøl': 454.93768493915286,\n",
       " 'Johanne Schmidt-Nielsen': 451.5038288346563,\n",
       " 'Karen J. Klint': 445.52269591005233,\n",
       " 'Kim Christiansen': 443.3480628835977,\n",
       " 'Marlene Harpsøe': 436.089237080688,\n",
       " 'Dan Jørgensen': 431.7516682539676,\n",
       " 'Torsten Schack Pedersen': 424.56865911904714,\n",
       " 'Hans Kristian Skibby': 421.5931452486776,\n",
       " 'Villum Christensen': 419.6811171164023,\n",
       " 'Kristian Thulesen Dahl': 414.04195925925865,\n",
       " 'Stine Brix': 409.24087787830666,\n",
       " 'Merete Riisager': 399.66127174603173,\n",
       " 'Jesper Petersen': 399.1663884973545,\n",
       " 'Simon Kollerup': 396.11733756613694,\n",
       " 'Christina Egelund': 393.68878306878304,\n",
       " 'Peter Kofod Poulsen': 393.02088306878295,\n",
       " 'Mette Reissmann': 389.4441002949732,\n",
       " 'Nikolaj Villumsen': 388.1612728529085,\n",
       " 'Marianne Jelved': 377.4957763280422,\n",
       " 'Ellen Trane Nørby': 373.0471190476189,\n",
       " 'Jeppe Bruus': 367.342021693121,\n",
       " 'Magni Arge': 362.2343121693122,\n",
       " 'Eva Kjer Hansen': 360.58977799206355,\n",
       " 'Ulla Sandbæk': 355.7073539285714,\n",
       " 'Christian Langballe': 355.3946117619045,\n",
       " 'Helle Thorning-Schmidt': 353.96522415079386,\n",
       " 'Morten Østergaard': 352.292588888889,\n",
       " 'Louise Schack Elholm': 347.84840857142893,\n",
       " 'Flemming Møller Mortensen': 344.9801190476187,\n",
       " 'Ulla Tørnæs': 342.2964206349208,\n",
       " 'Andreas Steenberg': 338.3614743306881,\n",
       " 'Anni Matthiesen': 337.7573201058201,\n",
       " 'Jakob Sølvhøj': 337.08719576719534,\n",
       " 'Leif Mikkelsen': 331.1868968253968,\n",
       " 'Alex Ahrendtsen': 327.29735767195695,\n",
       " 'Pia Adelsteen': 326.15446825396737,\n",
       " 'Jakob Ellemann-Jensen': 322.46726810026365,\n",
       " 'Morten Løkkegaard': 316.1860582010579,\n",
       " 'Magnus Heunicke': 315.6955767195766,\n",
       " 'Mikkel Dencker': 314.4916957671957,\n",
       " 'Jeppe Jakobsen': 306.1911153439155,\n",
       " 'Zenia Stampe': 303.4652759878302,\n",
       " 'Lea Wermelin': 299.35437301587257,\n",
       " 'Erik Christensen': 292.1935296296295,\n",
       " 'Trine Bramsen': 287.79772126984074,\n",
       " 'Jakob Engel-Schmidt': 283.93728359788327,\n",
       " 'Michael Aastrup Jensen': 283.50378350740755,\n",
       " 'Sjúrður Skaale': 275.7048597883596,\n",
       " 'Mette Frederiksen': 275.31055158994707,\n",
       " 'Naser Khader': 270.35041967724885,\n",
       " 'Peder Hvelplund': 263.0518111111114,\n",
       " 'Lotte Rod': 252.15904682539653,\n",
       " 'Karin Nødgaard': 230.24276455026416,\n",
       " 'Peter Juel Jensen': 225.33176076455,\n",
       " 'Bertel Haarder': 225.19033068783074,\n",
       " 'Søren Espersen': 223.248450907428,\n",
       " 'Jens Henrik Thulesen Dahl': 222.99030423280442,\n",
       " 'May-Britt Kattrup': 217.4230232804233,\n",
       " 'Peter Christensen': 213.10624514814796,\n",
       " 'Rasmus Horn Langhoff': 210.262113904762,\n",
       " 'Orla Hav': 206.65898148148136,\n",
       " 'Johannes Lebech': 191.06306746031726,\n",
       " 'Pernille Rosenkrantz-Theil': 179.510444015873,\n",
       " 'Henrik Dahl': 178.17100793650792,\n",
       " 'Kaare Dybvad': 175.99841269841264,\n",
       " 'Bjarne Laustsen': 175.67103650793644,\n",
       " 'Karin Gaardsted': 171.01475861640205,\n",
       " 'Pernille Bendixen': 170.4261587301587,\n",
       " 'Mette Hjermind Dencker': 168.14217989418003,\n",
       " 'Christian Rabjerg Madsen': 162.3049874232804,\n",
       " 'Claus Kvist Hansen': 160.9959656084657,\n",
       " 'Kasper Roug': 157.87144179894182,\n",
       " 'Britt Bager': 157.10117106746046,\n",
       " 'Liselott Blixt': 155.85261640211647,\n",
       " 'Mogens Jensen': 151.52330687830695,\n",
       " 'Susanne Eilersen': 138.88915767195783,\n",
       " 'Lennart Damsbo-Andersen': 136.2157317460319,\n",
       " 'Anders Johansson': 135.79622751322756,\n",
       " 'Mai Mercado': 134.83783068783086,\n",
       " 'Preben Bang Henriksen': 125.42394814814827,\n",
       " 'Marie Krarup': 124.1058243386243,\n",
       " 'Emrah Tuncer': 115.41019841269852,\n",
       " 'Yildiz Akdogan': 109.65145026455026,\n",
       " 'Jesper Kiel': 108.6643857142858,\n",
       " 'Julie Skovsby': 104.99571428571433,\n",
       " 'Carl Holst': 103.95293650793651,\n",
       " 'Nick Hækkerup': 101.31556750317463,\n",
       " 'Pernille Schnoor': 100.33296666666668,\n",
       " 'Jan Johansen': 100.05843915343924,\n",
       " 'Annette Lind': 89.02599206349217,\n",
       " 'Ib Poulsen': 81.73535714285711,\n",
       " 'Peter Skaarup': 69.51180846560851,\n",
       " 'Morten Bødskov': 67.85578042328044,\n",
       " 'Roger Matthisen': 67.75931216931217,\n",
       " 'Lise Bech': 67.32354497354497,\n",
       " 'Søren Gade': 58.55695767195762,\n",
       " 'Malte Larsen': 57.280410052910035,\n",
       " 'Henrik Brodersen': 55.45617724867727,\n",
       " 'Merete Dea Larsen': 54.66232275132275,\n",
       " 'Steen Holm Iversen': 54.12309417989418,\n",
       " 'Rasmus Helveg Petersen': 52.65625661375659,\n",
       " 'Maja Panduro': 52.4854100529101,\n",
       " 'Mette Gjerskov': 49.82675676984128,\n",
       " 'Nicolai Wammen': 49.21305335714287,\n",
       " 'Troels Ravn': 48.41011353968252,\n",
       " 'Jan Erik Messmann': 47.25515873015871,\n",
       " 'Henrik Sass Larsen': 46.70457671957672,\n",
       " 'Jan Rytkjær Callesen': 42.95738730158732,\n",
       " 'Anders Samuelsen': 41.67362219576721,\n",
       " 'Per Husted': 41.26330158730159,\n",
       " 'Kirsten Brosbøl': 40.19375661375661,\n",
       " 'Karina Due': 38.25330680158727,\n",
       " 'Anne Paulin': 38.109582010581995,\n",
       " 'Morten Marinus': 37.08328042328042,\n",
       " 'Daniel Toft Jakobsen': 37.07246031746031,\n",
       " 'Malou Lunderød': 29.14208994708993,\n",
       " 'Dorthe Ullemose': 27.36626984126985,\n",
       " 'Sarah Glerup': 27.113571428571444,\n",
       " 'Ane Halsboe-Jørgensen': 18.9522,\n",
       " 'Rasmus Vestergaard Madsen': 18.175634920634923,\n",
       " 'Uffe Elbæk': 16.373333333333328,\n",
       " ' ': 14.805555555555566,\n",
       " 'Christine Antorini': 13.729576719576714,\n",
       " 'Hans Christian Thoning': 12.638412698412711,\n",
       " 'Thomas Jensen': 9.326111111111109,\n",
       " 'Carsten Kudsk': 7.181455026455027,\n",
       " 'Tilde Bork': 6.095074074074067,\n",
       " 'Lars Aslan Rasmussen': 5.301190476190473,\n",
       " 'Sisse Marie Welling': 4.908571428571432,\n",
       " 'Astrid Krag': 3.0170238095238053,\n",
       " 'Pause Pause': -10.586666666666703}"
      ]
     },
     "execution_count": 16,
     "metadata": {},
     "output_type": "execute_result"
    }
   ],
   "source": [
    "sorted(person_sent.items(), key=lambda item: item[1], reverse=True)[:5]"
   ]
  },
  {
   "cell_type": "markdown",
   "metadata": {},
   "source": [
    "---"
   ]
  },
  {
   "cell_type": "markdown",
   "metadata": {},
   "source": [
    "### LIX analysis"
   ]
  },
  {
   "cell_type": "markdown",
   "metadata": {},
   "source": [
    "[LIX](https://en.wikipedia.org/wiki/Lix_(readability_test)) is a readibility score commonly used in Scandinavia. In Danish schools this is introduced at a very early stage to determine pupils reading level. We decided to measure the speeches for each party and parliment member using LIX to try to give some insight into how complicated language they are using. "
   ]
  },
  {
   "cell_type": "markdown",
   "metadata": {},
   "source": [
    "The formula for LIX is as follows"
   ]
  },
  {
   "cell_type": "markdown",
   "metadata": {},
   "source": [
    "$$\n",
    "    LIX = \\frac{A}{B}+\\frac{C \\cdot 100}{A}\\\\\\\\\n",
    "$$\n",
    "\\begin{align}\n",
    "    A:\\ & Number\\ of\\ words\\ in\\ text\\\\\n",
    "    B:\\ & Number\\ of\\ periods\\ (all\\ ending\\ characters\\ are\\ converted\\ to\\ periods)\\\\\n",
    "    C:\\ & Number\\ of\\ long\\ words\\ (more\\ than\\ 6\\ letters)\n",
    "\\end{align}"
   ]
  },
  {
   "cell_type": "markdown",
   "metadata": {},
   "source": [
    "Function for LIX is defined as a function"
   ]
  },
  {
   "cell_type": "code",
   "execution_count": 17,
   "metadata": {},
   "outputs": [],
   "source": [
    "def LIX(text: str, longWordBoundary = 7):\n",
    "    # replaces whitespace with space\n",
    "    text = re.sub(r'\\s\\s+', ' ', text)\n",
    "    # replaces ending characters with period \": ? ! ;\"\n",
    "    text = re.sub('(\\:|\\;|\\?|\\!)\\w*', '.', text)\n",
    "    # removes all special characters except for periods\n",
    "    text = re.sub('[^0-9a-zA-Z.æøåÆØÅé ]+', '', text)\n",
    "    # extracts sentences\n",
    "    sentences = text.split('.')\n",
    "    # removes periods\n",
    "    text = re.sub('\\.','',text)\n",
    "    # extracts words\n",
    "    words = text.split(' ')\n",
    "    long_words = [w for w in words if len(w) >= longWordBoundary]\n",
    "    \n",
    "    lix = len(words) / len(sentences) + (len(long_words) * 100 / len(words))\n",
    "  \n",
    "    return lix"
   ]
  },
  {
   "cell_type": "markdown",
   "metadata": {},
   "source": [
    "Find LIX for each party:"
   ]
  },
  {
   "cell_type": "code",
   "execution_count": 18,
   "metadata": {},
   "outputs": [],
   "source": [
    "party_LIX = dict([(party, LIX(doc)) for (party, doc) in party_docs.items()])"
   ]
  },
  {
   "cell_type": "code",
   "execution_count": 19,
   "metadata": {},
   "outputs": [
    {
     "data": {
      "text/plain": [
       "{'UFG': 50.84985758849858,\n",
       " 'T': 46.097804939769,\n",
       " 'SIU': 45.63326029413298,\n",
       " 'IA': 43.00548172488698,\n",
       " 'RV': 40.520201094212894,\n",
       " 'ALT': 40.25360764209356,\n",
       " 'S': 39.69870616775746,\n",
       " 'LA': 39.577172121364484,\n",
       " 'V': 39.45486847110512,\n",
       " 'EL': 38.87013834606552,\n",
       " 'JF': 38.51028457149269,\n",
       " 'SF': 38.25531931820791,\n",
       " 'KF': 37.824341857440004,\n",
       " 'DF': 37.484111161511635}"
      ]
     },
     "execution_count": 19,
     "metadata": {},
     "output_type": "execute_result"
    }
   ],
   "source": [
    "dict(sorted(party_LIX.items(), key=lambda item: item[1], reverse=True))"
   ]
  },
  {
   "cell_type": "markdown",
   "metadata": {},
   "source": [
    "Find LIX for each parliment member"
   ]
  },
  {
   "cell_type": "code",
   "execution_count": 20,
   "metadata": {},
   "outputs": [],
   "source": [
    "person_LIX = dict([(person, LIX(doc)) for (person, doc) in person_docs.items()])"
   ]
  },
  {
   "cell_type": "code",
   "execution_count": 21,
   "metadata": {
    "collapsed": true,
    "jupyter": {
     "outputs_hidden": true
    }
   },
   "outputs": [
    {
     "data": {
      "text/plain": [
       "{'Hans Christian Thoning': 55.225820962663065,\n",
       " 'Carsten Kudsk': 53.49299719887955,\n",
       " 'Kirsten Brosbøl': 50.04360183841315,\n",
       " 'Steen Holm Iversen': 49.19016453079425,\n",
       " 'Jakob Sølvhøj': 48.378575575413365,\n",
       " 'Carsten Bach': 48.36037226055852,\n",
       " 'Daniel Toft Jakobsen': 47.090495449949444,\n",
       " 'Tilde Bork': 47.0279219616968,\n",
       " 'Karen Ellemann': 46.90617917118062,\n",
       " 'Ellen Trane Nørby': 46.683879723002946,\n",
       " 'Orla Hav': 46.20326760995481,\n",
       " 'Magni Arge': 46.097804939769,\n",
       " 'Aleqa Hammond': 45.9966523158828,\n",
       " 'Dorthe Ullemose': 45.49625332366449,\n",
       " 'Ulla Tørnæs': 45.44485774835078,\n",
       " 'Emrah Tuncer': 45.22205728343836,\n",
       " 'Torsten Schack Pedersen': 45.18258099801241,\n",
       " 'Jørn Neergaard Larsen': 44.94186332669097,\n",
       " 'Christina Egelund': 44.837193635749315,\n",
       " 'Erik Christensen': 44.57682345771351,\n",
       " 'Lars Christian Lilleholt': 44.4533694534525,\n",
       " 'Britt Bager': 44.44452788893113,\n",
       " 'Nikolaj Amstrup': 44.4052398926537,\n",
       " 'Esben Lunde Larsen': 44.34370912691912,\n",
       " 'Trine Bramsen': 44.11760930471553,\n",
       " 'Søren Pind': 43.99443997132232,\n",
       " 'Uffe Elbæk': 43.98841354723707,\n",
       " 'Christian Rabjerg Madsen': 43.70426640650652,\n",
       " 'Laura Lindahl': 43.69780438724074,\n",
       " 'Sophie Løhde': 43.69682690258361,\n",
       " 'Mogens Jensen': 43.61752149928378,\n",
       " ' ': 43.55348361088246,\n",
       " 'Peter Christensen': 43.46409579955379,\n",
       " 'Jane Heitmann': 43.299651542094544,\n",
       " 'Flemming Møller Mortensen': 43.28433277621967,\n",
       " 'Troels Ravn': 43.15193996035117,\n",
       " 'Morten Bødskov': 43.14507055459191,\n",
       " 'Peter Juel Jensen': 43.119905958874185,\n",
       " 'Malte Larsen': 43.09590792838875,\n",
       " 'Troels Lund Poulsen': 43.05824580422566,\n",
       " 'Johannes Lebech': 43.01471573274429,\n",
       " 'Aaja Chemnitz Larsen': 43.00548172488698,\n",
       " 'Simon Kollerup': 42.998056571506794,\n",
       " 'Carl Holst': 42.900013155705174,\n",
       " 'Anders Johansson': 42.738344984151766,\n",
       " 'Eva Kjer Hansen': 42.73567148822853,\n",
       " 'Roger Matthisen': 42.73169049951028,\n",
       " 'Nikolaj Villumsen': 42.684439684456976,\n",
       " 'Jan Rytkjær Callesen': 42.64483388292025,\n",
       " 'Mikkel Dencker': 42.520703118520274,\n",
       " 'Trine Torp': 42.45572440325368,\n",
       " 'Bertel Haarder': 42.41976682508574,\n",
       " 'Martin Lidegaard': 42.195956238748096,\n",
       " 'Claus Kvist Hansen': 42.19328607172644,\n",
       " 'Henrik Dahl': 42.13548506231321,\n",
       " 'Mette Reissmann': 42.13390223041799,\n",
       " 'Nick Hækkerup': 42.064462523528626,\n",
       " 'Mattias Tesfaye': 42.00016365304888,\n",
       " 'Torsten Gejl': 41.993553946924244,\n",
       " 'Merete Dea Larsen': 41.98309172124634,\n",
       " 'Julie Skovsby': 41.96911594159377,\n",
       " 'Martin Henriksen': 41.946991897767056,\n",
       " 'Preben Bang Henriksen': 41.908195134592006,\n",
       " 'Jeppe Jakobsen': 41.72346907801974,\n",
       " 'Anne Paulin': 41.690508958381116,\n",
       " 'Kristian Jensen': 41.66741271515346,\n",
       " 'Josephine Fock': 41.647976269805866,\n",
       " 'Thomas Danielsen': 41.63639481690515,\n",
       " 'May-Britt Kattrup': 41.59323930346281,\n",
       " 'Peter Hummelgaard Thomsen': 41.56815937025754,\n",
       " 'Karina Adsbøl': 41.49180853461064,\n",
       " 'Morten Østergaard': 41.27816874672805,\n",
       " 'Peder Hvelplund': 41.1583128033811,\n",
       " 'Zenia Stampe': 41.0919996653986,\n",
       " 'Yildiz Akdogan': 40.97067602856328,\n",
       " 'Karsten Lauritzen': 40.96563685026232,\n",
       " 'Marcus Knuth': 40.94907191284929,\n",
       " 'Rasmus Nordqvist': 40.899948114097214,\n",
       " 'Peter Kofod Poulsen': 40.85289190058888,\n",
       " 'Jeppe Bruus': 40.740748518273065,\n",
       " 'Jonas Dahl': 40.61615006690815,\n",
       " 'Astrid Krag': 40.58923884514436,\n",
       " 'Pernille Skipper': 40.58248442202358,\n",
       " 'Jan Johansen': 40.575667974840066,\n",
       " 'Inger Støjberg': 40.52095726545788,\n",
       " 'Henning Hyllested': 40.519293237698236,\n",
       " 'Anni Matthiesen': 40.51490173962084,\n",
       " 'Maria Reumert Gjerding': 40.43779320176495,\n",
       " 'Kenneth Kristensen Berth': 40.40509965740142,\n",
       " 'Karin Gaardsted': 40.3936918359538,\n",
       " 'Mette Frederiksen': 40.3346174051821,\n",
       " 'Jesper Petersen': 40.22198070256799,\n",
       " 'Kaare Dybvad': 40.138181978270936,\n",
       " 'Mai Mercado': 40.11067613033537,\n",
       " 'Sofie Carsten Nielsen': 40.01438709561431,\n",
       " 'Hans Christian Schmidt': 39.990475422811734,\n",
       " 'Jakob Engel-Schmidt': 39.93173996175908,\n",
       " 'Henrik Brodersen': 39.92122304276645,\n",
       " 'Morten Marinus': 39.819182389937104,\n",
       " 'Jan Erik Messmann': 39.80343861682604,\n",
       " 'Jens Joel': 39.78597856196555,\n",
       " 'Rune Lund': 39.770140262945574,\n",
       " 'Eva Flyvholm': 39.623468842004385,\n",
       " 'Rasmus Prehn': 39.57993071843709,\n",
       " 'Pernille Schnoor': 39.562164804224246,\n",
       " 'Merete Riisager': 39.555896065089826,\n",
       " 'Susanne Eilersen': 39.448951362903685,\n",
       " 'Simon Emil Ammitzbøll': 39.44268275788703,\n",
       " 'Marianne Jelved': 39.428768658020374,\n",
       " 'Karsten Hønge': 39.3552956374151,\n",
       " 'Claus Hjort Frederiksen': 39.348862315657065,\n",
       " 'Carolina Magdalene Maier': 39.3357157151691,\n",
       " 'Peter Skaarup': 39.31424451539809,\n",
       " 'Søren Egge Rasmussen': 39.29100053402858,\n",
       " 'Henrik Sass Larsen': 39.29071459157074,\n",
       " 'Karin Nødgaard': 39.19562823765965,\n",
       " 'Leif Mikkelsen': 39.17857588317694,\n",
       " 'Kasper Roug': 39.093201696461705,\n",
       " 'René Gade': 39.08810861882246,\n",
       " 'Rasmus Jarlov': 39.0785138813422,\n",
       " 'Jens Henrik Thulesen Dahl': 39.051300960593,\n",
       " 'Michael Aastrup Jensen': 39.02406201867589,\n",
       " 'Hans Andersen': 38.94569165070243,\n",
       " 'Rasmus Helveg Petersen': 38.9173376734624,\n",
       " 'Sarah Glerup': 38.90822318148913,\n",
       " 'Hans Kristian Skibby': 38.75728931283553,\n",
       " 'Lotte Rod': 38.65142776601094,\n",
       " 'Dennis Flydtkjær': 38.607115239422654,\n",
       " 'Mette Abildgaard': 38.58316431992896,\n",
       " 'Maja Panduro': 38.56058391620559,\n",
       " 'Ulla Sandbæk': 38.537851186666074,\n",
       " 'Rasmus Horn Langhoff': 38.53762545057509,\n",
       " 'Pelle Dragsted': 38.51292535784826,\n",
       " 'Sjúrður Skaale': 38.51028457149269,\n",
       " 'Brian Mikkelsen': 38.467484323562175,\n",
       " 'Lea Wermelin': 38.396671845346106,\n",
       " 'Finn Sørensen': 38.36272578650629,\n",
       " 'Louise Schack Elholm': 38.31519513677371,\n",
       " 'Andreas Steenberg': 38.29813770058873,\n",
       " 'Pernille Rosenkrantz-Theil': 38.26328106575981,\n",
       " 'Ida Auken': 38.23874343244056,\n",
       " 'Marie Krarup': 38.16713895854773,\n",
       " 'Christian Poll': 38.15566474858619,\n",
       " 'Søren Søndergaard': 38.14848576821101,\n",
       " 'Lisbeth Bech Poulsen': 38.10500339762278,\n",
       " 'Dan Jørgensen': 37.9467760921699,\n",
       " 'Morten Løkkegaard': 37.894089441667255,\n",
       " 'Jan E. Jørgensen': 37.88173474515539,\n",
       " 'Søren Gade': 37.86371856388494,\n",
       " 'Lennart Damsbo-Andersen': 37.68460557101692,\n",
       " 'Marlene Harpsøe': 37.669998611374425,\n",
       " 'Pia Olsen Dyhr': 37.561568880000905,\n",
       " 'Magnus Heunicke': 37.476774062179956,\n",
       " 'Lise Bech': 37.425548976067105,\n",
       " 'Lars Løkke Rasmussen': 37.4168027630125,\n",
       " 'Johanne Schmidt-Nielsen': 37.2855633328268,\n",
       " 'Nicolai Wammen': 37.22942409532215,\n",
       " 'Per Husted': 37.022544482155716,\n",
       " 'Naser Khader': 36.868648176013366,\n",
       " 'Villum Christensen': 36.78770239133822,\n",
       " 'Thomas Jensen': 36.75079264426125,\n",
       " 'Anders Samuelsen': 36.74976853842767,\n",
       " 'Holger K. Nielsen': 36.744574974852114,\n",
       " 'Rasmus Vestergaard Madsen': 36.73990043391974,\n",
       " 'Bjarne Laustsen': 36.649022731836595,\n",
       " 'Jacob Mark': 36.50489646210693,\n",
       " 'Mette Gjerskov': 36.439887312265625,\n",
       " 'Pernille Bendixen': 36.27522022131937,\n",
       " 'Kristian Thulesen Dahl': 36.12023599100385,\n",
       " 'Christian Langballe': 36.05271562803452,\n",
       " 'Jacob Jensen': 35.894143717678304,\n",
       " 'Malou Lunderød': 35.84532629655942,\n",
       " 'Joachim B. Olsen': 35.77575537141689,\n",
       " 'Karina Due': 35.60948676572127,\n",
       " 'Ib Poulsen': 35.4779539292083,\n",
       " 'Liselott Blixt': 35.44723011469402,\n",
       " 'Lars Aslan Rasmussen': 35.4106529209622,\n",
       " 'Jesper Kiel': 35.11106602422585,\n",
       " 'Jakob Ellemann-Jensen': 35.099657196275245,\n",
       " 'Ole Birk Olesen': 34.98710710500459,\n",
       " 'Mette Hjermind Dencker': 34.84962128500021,\n",
       " 'Sisse Marie Welling': 34.80487804878049,\n",
       " 'Annette Lind': 34.792645085091536,\n",
       " 'Ane Halsboe-Jørgensen': 34.549516539440205,\n",
       " 'Kristian Pihl Lorentzen': 34.41602114560915,\n",
       " 'Christine Antorini': 34.3416149068323,\n",
       " 'Søren Espersen': 34.239488550592355,\n",
       " 'Pia Adelsteen': 34.100367267395946,\n",
       " 'Alex Ahrendtsen': 34.053263263882144,\n",
       " 'Kim Christiansen': 33.70935249370439,\n",
       " 'Søren Pape Poulsen': 33.53471553266289,\n",
       " 'Mette Bock': 33.514117847304085,\n",
       " 'Pia Kjærsgaard': 33.440634140611,\n",
       " 'Karen J. Klint': 33.07011764907721,\n",
       " 'Henrik Dam Kristensen': 32.799046007987855,\n",
       " 'Benny Engelbrecht': 32.75787295352336,\n",
       " 'René Christensen': 32.38701757337345,\n",
       " 'Stine Brix': 31.98426853958378,\n",
       " 'Leif Lahn Jensen': 31.204880101960804,\n",
       " 'Erling Bonnesen': 31.154387989439577,\n",
       " 'Christian Juhl': 30.999894777709077,\n",
       " 'Helle Thorning-Schmidt': 30.340514429006326,\n",
       " 'Bent Bøgsted': 29.37088538634748,\n",
       " 'Pause Pause': 22.969136670416198}"
      ]
     },
     "execution_count": 21,
     "metadata": {},
     "output_type": "execute_result"
    }
   ],
   "source": [
    "sorted(person_LIX.items(), key=lambda item: item[1], reverse=True)[:5]"
   ]
  },
  {
   "cell_type": "markdown",
   "metadata": {},
   "source": [
    "---"
   ]
  },
  {
   "cell_type": "markdown",
   "metadata": {},
   "source": [
    "### Language analysis using TF-IDF"
   ]
  },
  {
   "cell_type": "markdown",
   "metadata": {},
   "source": [
    "In Danish the word \"politikersnak\" meaning \"politician speak\" is a real word (https://www.google.com/url?sa=t&rct=j&q=&esrc=s&source=web&cd=&cad=rja&uact=8&ved=2ahUKEwjJvqDg_rfwAhULtKQKHe4cDPwQFjABegQIBBAD&url=https%3A%2F%2Fwww.berlingske.dk%2Fpolitik%2Fguide-til-politikersnak-udenomssnak-floskler-og-papegoejesaetninger&usg=AOvVaw0PyBFX3PVHqIF-ftjcJPLK).\n",
    "It is used to refer to when a person is avoiding answering a question or is directing the conversation onto a topic that they would like to brand themself on.\n",
    "\n",
    "To cut through all of this \"politikersnak\" that are in these thousands of speeches made from the podium in Folketinget, we would like to determine which words are actually special about a certain politician.\n",
    "They are all using a lot of the same words, but if you for instance were interested in green energy - you would probably be interested in which politicians were actually talking about \"solceller\" (solar power) and \"vindmøller\" (wind mills). Or if you were very interested in your specific little city and there was a single politician who actually mentioned it multiple times, it would be interesting for you to know that they were actually fighting your cause from the most important podium in Denmark.\n",
    "The same idea can be applied to the political parties.\n",
    "The TF-IDF will hopefully also help us understand what the communities created by the Louvain Partitioning have in common.\n",
    "By looking at their speeches, we will be able to see words that are important to that group.\n",
    "\n",
    "For the purpose of finding words that are close to unique but still prevalent for some kind of document, the TF-IDF method is ideal.\n",
    "In our GitHub repo we have provided a file `tf_idf.py`, that defines the exact flavour of TF-IDF we are using.\n"
   ]
  },
  {
   "cell_type": "code",
   "execution_count": 22,
   "metadata": {},
   "outputs": [],
   "source": [
    "from tf_idf import TfIdf\n",
    "from nltk.corpus import stopwords"
   ]
  },
  {
   "cell_type": "code",
   "execution_count": 23,
   "metadata": {},
   "outputs": [],
   "source": [
    "def SpeechTFIDF(doc, column1: str):\n",
    "    doc_counted = TfIdf(doc, stop_words=stopwords.words('danish') + [\"hr\", \"fru\", \"fordi\", \"hen\", \"får\"])\n",
    "    doc_counted.docs_fd.keys()\n",
    "    TF_IDF = pd.DataFrame()\n",
    "\n",
    "    for p in doc_counted.docs_fd.keys():\n",
    "        tfids = doc_counted.all_tf_idf(p)\n",
    "        tfids_sorted = sorted(tfids, key=tfids.get, reverse=True)[:100] # Top 5\n",
    "\n",
    "        #print(f\"{p}\", tfids)\n",
    "        TF_IDF = TF_IDF.append([[f\"{p}\", tfids]],ignore_index=True)\n",
    "    TF_IDF = TF_IDF.rename(columns={0: str(column1), 1:\"Words\"})\n",
    "    return(TF_IDF)"
   ]
  },
  {
   "cell_type": "markdown",
   "metadata": {},
   "source": [
    "TF_IDF is analysed for each party"
   ]
  },
  {
   "cell_type": "code",
   "execution_count": 24,
   "metadata": {},
   "outputs": [],
   "source": [
    "Party_TF_IDF_ALL = SpeechTFIDF(party_docs, \"Party\")"
   ]
  },
  {
   "cell_type": "code",
   "execution_count": 25,
   "metadata": {},
   "outputs": [
    {
     "data": {
      "text/html": [
       "<div>\n",
       "<style scoped>\n",
       "    .dataframe tbody tr th:only-of-type {\n",
       "        vertical-align: middle;\n",
       "    }\n",
       "\n",
       "    .dataframe tbody tr th {\n",
       "        vertical-align: top;\n",
       "    }\n",
       "\n",
       "    .dataframe thead th {\n",
       "        text-align: right;\n",
       "    }\n",
       "</style>\n",
       "<table border=\"1\" class=\"dataframe\">\n",
       "  <thead>\n",
       "    <tr style=\"text-align: right;\">\n",
       "      <th></th>\n",
       "      <th>Party</th>\n",
       "      <th>Words</th>\n",
       "    </tr>\n",
       "  </thead>\n",
       "  <tbody>\n",
       "    <tr>\n",
       "      <th>0</th>\n",
       "      <td>ALT</td>\n",
       "      <td>{'tak': -0.0001620893789640562, 'hørte': 1.095...</td>\n",
       "    </tr>\n",
       "    <tr>\n",
       "      <th>1</th>\n",
       "      <td>DF</td>\n",
       "      <td>{'tak': -0.00013362092276703437, 'talen': 8.27...</td>\n",
       "    </tr>\n",
       "    <tr>\n",
       "      <th>2</th>\n",
       "      <td>EL</td>\n",
       "      <td>{'tak': -0.00013045472639642896, 'socialdemokr...</td>\n",
       "    </tr>\n",
       "    <tr>\n",
       "      <th>3</th>\n",
       "      <td>IA</td>\n",
       "      <td>{'arktis': -0.00010335540258316482, 'hot': 2.0...</td>\n",
       "    </tr>\n",
       "    <tr>\n",
       "      <th>4</th>\n",
       "      <td>JF</td>\n",
       "      <td>{'fornemt': 0.0002723333224501143, 'store': -6...</td>\n",
       "    </tr>\n",
       "    <tr>\n",
       "      <th>5</th>\n",
       "      <td>KF</td>\n",
       "      <td>{'sidder': 0.0, 'millioner': 1.904683111902463...</td>\n",
       "    </tr>\n",
       "    <tr>\n",
       "      <th>6</th>\n",
       "      <td>LA</td>\n",
       "      <td>{'retorik': 5.989939538166984e-06, 'benny': 1....</td>\n",
       "    </tr>\n",
       "    <tr>\n",
       "      <th>7</th>\n",
       "      <td>RV</td>\n",
       "      <td>{'tak': -9.589612384965261e-05, 'ordførerens':...</td>\n",
       "    </tr>\n",
       "    <tr>\n",
       "      <th>8</th>\n",
       "      <td>S</td>\n",
       "      <td>{'tak': -0.0001290966010152699, 'formand': -1....</td>\n",
       "    </tr>\n",
       "    <tr>\n",
       "      <th>9</th>\n",
       "      <td>SF</td>\n",
       "      <td>{'tak': -8.222107688316156e-05, 'gerne': -0.00...</td>\n",
       "    </tr>\n",
       "    <tr>\n",
       "      <th>10</th>\n",
       "      <td>SIU</td>\n",
       "      <td>{'tak': -3.066574778115699e-05, 'rigsfællesska...</td>\n",
       "    </tr>\n",
       "    <tr>\n",
       "      <th>11</th>\n",
       "      <td>T</td>\n",
       "      <td>{'godt': -6.349723228827407e-05, 'stå': 0.0, '...</td>\n",
       "    </tr>\n",
       "    <tr>\n",
       "      <th>12</th>\n",
       "      <td>UFG</td>\n",
       "      <td>{'tak': -3.488151731949151e-05, 'formand': -3....</td>\n",
       "    </tr>\n",
       "    <tr>\n",
       "      <th>13</th>\n",
       "      <td>V</td>\n",
       "      <td>{'tak': -0.00013404959303226743, 'formand': -1...</td>\n",
       "    </tr>\n",
       "  </tbody>\n",
       "</table>\n",
       "</div>"
      ],
      "text/plain": [
       "   Party                                              Words\n",
       "0    ALT  {'tak': -0.0001620893789640562, 'hørte': 1.095...\n",
       "1     DF  {'tak': -0.00013362092276703437, 'talen': 8.27...\n",
       "2     EL  {'tak': -0.00013045472639642896, 'socialdemokr...\n",
       "3     IA  {'arktis': -0.00010335540258316482, 'hot': 2.0...\n",
       "4     JF  {'fornemt': 0.0002723333224501143, 'store': -6...\n",
       "5     KF  {'sidder': 0.0, 'millioner': 1.904683111902463...\n",
       "6     LA  {'retorik': 5.989939538166984e-06, 'benny': 1....\n",
       "7     RV  {'tak': -9.589612384965261e-05, 'ordførerens':...\n",
       "8      S  {'tak': -0.0001290966010152699, 'formand': -1....\n",
       "9     SF  {'tak': -8.222107688316156e-05, 'gerne': -0.00...\n",
       "10   SIU  {'tak': -3.066574778115699e-05, 'rigsfællesska...\n",
       "11     T  {'godt': -6.349723228827407e-05, 'stå': 0.0, '...\n",
       "12   UFG  {'tak': -3.488151731949151e-05, 'formand': -3....\n",
       "13     V  {'tak': -0.00013404959303226743, 'formand': -1..."
      ]
     },
     "execution_count": 25,
     "metadata": {},
     "output_type": "execute_result"
    }
   ],
   "source": [
    "Party_TF_IDF_ALL"
   ]
  },
  {
   "cell_type": "markdown",
   "metadata": {},
   "source": [
    "TF_IDF is analysed for each member"
   ]
  },
  {
   "cell_type": "code",
   "execution_count": 26,
   "metadata": {},
   "outputs": [],
   "source": [
    "Person_TF_IDF_ALL = SpeechTFIDF(person_docs, \"Person\")"
   ]
  },
  {
   "cell_type": "code",
   "execution_count": 27,
   "metadata": {},
   "outputs": [
    {
     "data": {
      "text/html": [
       "<div>\n",
       "<style scoped>\n",
       "    .dataframe tbody tr th:only-of-type {\n",
       "        vertical-align: middle;\n",
       "    }\n",
       "\n",
       "    .dataframe tbody tr th {\n",
       "        vertical-align: top;\n",
       "    }\n",
       "\n",
       "    .dataframe thead th {\n",
       "        text-align: right;\n",
       "    }\n",
       "</style>\n",
       "<table border=\"1\" class=\"dataframe\">\n",
       "  <thead>\n",
       "    <tr style=\"text-align: right;\">\n",
       "      <th></th>\n",
       "      <th>Person</th>\n",
       "      <th>Words</th>\n",
       "    </tr>\n",
       "  </thead>\n",
       "  <tbody>\n",
       "    <tr>\n",
       "      <th>0</th>\n",
       "      <td></td>\n",
       "      <td>{'punktet': 0.0061550261181423475, 'udgået': 0...</td>\n",
       "    </tr>\n",
       "    <tr>\n",
       "      <th>1</th>\n",
       "      <td>Aaja Chemnitz Larsen</td>\n",
       "      <td>{'arktis': 0.003086036992207079, 'hot': 8.3852...</td>\n",
       "    </tr>\n",
       "    <tr>\n",
       "      <th>2</th>\n",
       "      <td>Aleqa Hammond</td>\n",
       "      <td>{'tak': 8.891363930646234e-06, 'formand': 6.06...</td>\n",
       "    </tr>\n",
       "    <tr>\n",
       "      <th>3</th>\n",
       "      <td>Alex Ahrendtsen</td>\n",
       "      <td>{'lovforslag': 0.00017100373687430138, 'måske'...</td>\n",
       "    </tr>\n",
       "    <tr>\n",
       "      <th>4</th>\n",
       "      <td>Anders Johansson</td>\n",
       "      <td>{'tak': 6.979399987128776e-05, 'beslutningsfor...</td>\n",
       "    </tr>\n",
       "    <tr>\n",
       "      <th>...</th>\n",
       "      <td>...</td>\n",
       "      <td>...</td>\n",
       "    </tr>\n",
       "    <tr>\n",
       "      <th>199</th>\n",
       "      <td>Ulla Sandbæk</td>\n",
       "      <td>{'tak': 6.192193439774338e-05, 'undskyld': 3.4...</td>\n",
       "    </tr>\n",
       "    <tr>\n",
       "      <th>200</th>\n",
       "      <td>Ulla Tørnæs</td>\n",
       "      <td>{'gerne': 7.600299990855947e-05, 'takke': 8.91...</td>\n",
       "    </tr>\n",
       "    <tr>\n",
       "      <th>201</th>\n",
       "      <td>Villum Christensen</td>\n",
       "      <td>{'tak': 3.285573726855341e-05, 'beslutningsfor...</td>\n",
       "    </tr>\n",
       "    <tr>\n",
       "      <th>202</th>\n",
       "      <td>Yildiz Akdogan</td>\n",
       "      <td>{'tak': 8.440406916708445e-05, 'ordføreren': 0...</td>\n",
       "    </tr>\n",
       "    <tr>\n",
       "      <th>203</th>\n",
       "      <td>Zenia Stampe</td>\n",
       "      <td>{'tak': 3.0070530636075416e-05, 'svært': 0.000...</td>\n",
       "    </tr>\n",
       "  </tbody>\n",
       "</table>\n",
       "<p>204 rows × 2 columns</p>\n",
       "</div>"
      ],
      "text/plain": [
       "                   Person                                              Words\n",
       "0                          {'punktet': 0.0061550261181423475, 'udgået': 0...\n",
       "1    Aaja Chemnitz Larsen  {'arktis': 0.003086036992207079, 'hot': 8.3852...\n",
       "2           Aleqa Hammond  {'tak': 8.891363930646234e-06, 'formand': 6.06...\n",
       "3         Alex Ahrendtsen  {'lovforslag': 0.00017100373687430138, 'måske'...\n",
       "4        Anders Johansson  {'tak': 6.979399987128776e-05, 'beslutningsfor...\n",
       "..                    ...                                                ...\n",
       "199          Ulla Sandbæk  {'tak': 6.192193439774338e-05, 'undskyld': 3.4...\n",
       "200           Ulla Tørnæs  {'gerne': 7.600299990855947e-05, 'takke': 8.91...\n",
       "201    Villum Christensen  {'tak': 3.285573726855341e-05, 'beslutningsfor...\n",
       "202        Yildiz Akdogan  {'tak': 8.440406916708445e-05, 'ordføreren': 0...\n",
       "203          Zenia Stampe  {'tak': 3.0070530636075416e-05, 'svært': 0.000...\n",
       "\n",
       "[204 rows x 2 columns]"
      ]
     },
     "execution_count": 27,
     "metadata": {},
     "output_type": "execute_result"
    }
   ],
   "source": [
    "Person_TF_IDF_ALL.sample(5)"
   ]
  },
  {
   "cell_type": "markdown",
   "metadata": {},
   "source": [
    "---"
   ]
  },
  {
   "cell_type": "markdown",
   "metadata": {},
   "source": [
    "### Member information"
   ]
  },
  {
   "cell_type": "markdown",
   "metadata": {},
   "source": [
    "Connecting name and id for each Person in data"
   ]
  },
  {
   "cell_type": "code",
   "execution_count": 39,
   "metadata": {},
   "outputs": [],
   "source": [
    "actors = pd.read_csv(\"data/ft/Aktør.csv\", index_col = False)"
   ]
  },
  {
   "cell_type": "code",
   "execution_count": 40,
   "metadata": {},
   "outputs": [],
   "source": [
    "ActorNameDict = dict(zip(actors[\"navn\"], actors[\"id\"]))"
   ]
  },
  {
   "cell_type": "code",
   "execution_count": 41,
   "metadata": {},
   "outputs": [],
   "source": [
    "import re\n",
    "def getTag(bio,tag):\n",
    "    if bio:\n",
    "        results = re.search('<'+tag+'>(.*)</'+tag+'>', bio)\n",
    "        if results: return results[1]\n",
    "    else: return ''"
   ]
  },
  {
   "cell_type": "code",
   "execution_count": 42,
   "metadata": {},
   "outputs": [],
   "source": [
    "actor_types = pd.read_csv('data/ft/Aktørtype.csv').set_index('id', drop=False)"
   ]
  },
  {
   "cell_type": "code",
   "execution_count": 43,
   "metadata": {},
   "outputs": [],
   "source": [
    "actors = actors.fillna('')\n",
    "actors['parti'] = actors['biografi'].apply(getTag, args=('partyShortname',))"
   ]
  },
  {
   "cell_type": "code",
   "execution_count": 44,
   "metadata": {},
   "outputs": [],
   "source": [
    "IDPartyDict = dict(zip(actors[\"id\"],actors['biografi'].apply(getTag, args=('partyShortname',))))"
   ]
  },
  {
   "cell_type": "markdown",
   "metadata": {},
   "source": [
    "---"
   ]
  },
  {
   "cell_type": "markdown",
   "metadata": {},
   "source": [
    "### Combine Information"
   ]
  },
  {
   "cell_type": "markdown",
   "metadata": {},
   "source": [
    "Information is combined to have profiles for each party and each member. \n",
    "This is primarily used for showing data on the website more easily."
   ]
  },
  {
   "cell_type": "markdown",
   "metadata": {},
   "source": [
    "#### Party"
   ]
  },
  {
   "cell_type": "code",
   "execution_count": 45,
   "metadata": {},
   "outputs": [],
   "source": [
    "#Sentiment\n",
    "PartyData = pd.DataFrame.from_dict(party_sent, orient='index')\n",
    "PartyData[\"avgSent\"] = pd.DataFrame.from_dict(party_sent_avg, orient='index')[0]\n",
    "PartyData = PartyData.rename(columns={0: \"totalSent\",})\n",
    "\n",
    "#LIX\n",
    "PartyData[\"lix\"] = pd.DataFrame.from_dict(party_LIX, orient='index')[0]\n",
    "\n",
    "#TF-IDF\n",
    "Party_TF_IDF_Dict = dict(zip(Party_TF_IDF_ALL[\"Party\"],Party_TF_IDF_ALL[\"Words\"]))\n",
    "PartyData[\"tfIdf\"] = PartyData.apply(lambda row: Party_TF_IDF_Dict[row.name], axis=1)\n",
    "\n",
    "#Votes\n",
    "PartyData[\"votes\"] = pd.DataFrame.from_dict(PartyVotesDict, orient='index')[0]\n",
    "PartyData[\"mandates\"] = pd.DataFrame.from_dict(PartyMandatesDict, orient='index')[0]"
   ]
  },
  {
   "cell_type": "code",
   "execution_count": 46,
   "metadata": {},
   "outputs": [
    {
     "data": {
      "text/html": [
       "<div>\n",
       "<style scoped>\n",
       "    .dataframe tbody tr th:only-of-type {\n",
       "        vertical-align: middle;\n",
       "    }\n",
       "\n",
       "    .dataframe tbody tr th {\n",
       "        vertical-align: top;\n",
       "    }\n",
       "\n",
       "    .dataframe thead th {\n",
       "        text-align: right;\n",
       "    }\n",
       "</style>\n",
       "<table border=\"1\" class=\"dataframe\">\n",
       "  <thead>\n",
       "    <tr style=\"text-align: right;\">\n",
       "      <th></th>\n",
       "      <th>totalSent</th>\n",
       "      <th>avgSent</th>\n",
       "      <th>lix</th>\n",
       "      <th>tfIdf</th>\n",
       "      <th>votes</th>\n",
       "      <th>mandates</th>\n",
       "    </tr>\n",
       "  </thead>\n",
       "  <tbody>\n",
       "    <tr>\n",
       "      <th>ALT</th>\n",
       "      <td>7184.792473</td>\n",
       "      <td>0.342537</td>\n",
       "      <td>40.253608</td>\n",
       "      <td>{'tak': -0.0001620893789640562, 'hørte': 1.095...</td>\n",
       "      <td>104278.0</td>\n",
       "      <td>5.0</td>\n",
       "    </tr>\n",
       "    <tr>\n",
       "      <th>DF</th>\n",
       "      <td>9816.984189</td>\n",
       "      <td>0.244083</td>\n",
       "      <td>37.484111</td>\n",
       "      <td>{'tak': -0.00013362092276703437, 'talen': 8.27...</td>\n",
       "      <td>308513.0</td>\n",
       "      <td>16.0</td>\n",
       "    </tr>\n",
       "    <tr>\n",
       "      <th>EL</th>\n",
       "      <td>11673.655360</td>\n",
       "      <td>0.217732</td>\n",
       "      <td>38.870138</td>\n",
       "      <td>{'tak': -0.00013045472639642896, 'socialdemokr...</td>\n",
       "      <td>245100.0</td>\n",
       "      <td>13.0</td>\n",
       "    </tr>\n",
       "    <tr>\n",
       "      <th>IA</th>\n",
       "      <td>1081.779810</td>\n",
       "      <td>0.462341</td>\n",
       "      <td>43.005482</td>\n",
       "      <td>{'arktis': -0.00010335540258316482, 'hot': 2.0...</td>\n",
       "      <td>NaN</td>\n",
       "      <td>NaN</td>\n",
       "    </tr>\n",
       "    <tr>\n",
       "      <th>JF</th>\n",
       "      <td>275.704860</td>\n",
       "      <td>0.331436</td>\n",
       "      <td>38.510285</td>\n",
       "      <td>{'fornemt': 0.0002723333224501143, 'store': -6...</td>\n",
       "      <td>NaN</td>\n",
       "      <td>NaN</td>\n",
       "    </tr>\n",
       "    <tr>\n",
       "      <th>KF</th>\n",
       "      <td>3637.448697</td>\n",
       "      <td>0.296384</td>\n",
       "      <td>37.824342</td>\n",
       "      <td>{'sidder': 0.0, 'millioner': 1.904683111902463...</td>\n",
       "      <td>233865.0</td>\n",
       "      <td>12.0</td>\n",
       "    </tr>\n",
       "    <tr>\n",
       "      <th>LA</th>\n",
       "      <td>5573.353110</td>\n",
       "      <td>0.261870</td>\n",
       "      <td>39.577172</td>\n",
       "      <td>{'retorik': 5.989939538166984e-06, 'benny': 1....</td>\n",
       "      <td>82270.0</td>\n",
       "      <td>4.0</td>\n",
       "    </tr>\n",
       "    <tr>\n",
       "      <th>RV</th>\n",
       "      <td>4968.206200</td>\n",
       "      <td>0.313630</td>\n",
       "      <td>40.520201</td>\n",
       "      <td>{'tak': -9.589612384965261e-05, 'ordførerens':...</td>\n",
       "      <td>304714.0</td>\n",
       "      <td>16.0</td>\n",
       "    </tr>\n",
       "    <tr>\n",
       "      <th>S</th>\n",
       "      <td>10581.238757</td>\n",
       "      <td>0.267605</td>\n",
       "      <td>39.698706</td>\n",
       "      <td>{'tak': -0.0001290966010152699, 'formand': -1....</td>\n",
       "      <td>914882.0</td>\n",
       "      <td>48.0</td>\n",
       "    </tr>\n",
       "    <tr>\n",
       "      <th>SF</th>\n",
       "      <td>5492.370928</td>\n",
       "      <td>0.257456</td>\n",
       "      <td>38.255319</td>\n",
       "      <td>{'tak': -8.222107688316156e-05, 'gerne': -0.00...</td>\n",
       "      <td>272304.0</td>\n",
       "      <td>14.0</td>\n",
       "    </tr>\n",
       "    <tr>\n",
       "      <th>SIU</th>\n",
       "      <td>594.668178</td>\n",
       "      <td>0.436765</td>\n",
       "      <td>45.633260</td>\n",
       "      <td>{'tak': -3.066574778115699e-05, 'rigsfællesska...</td>\n",
       "      <td>NaN</td>\n",
       "      <td>NaN</td>\n",
       "    </tr>\n",
       "    <tr>\n",
       "      <th>T</th>\n",
       "      <td>362.234312</td>\n",
       "      <td>0.372934</td>\n",
       "      <td>46.097805</td>\n",
       "      <td>{'godt': -6.349723228827407e-05, 'stå': 0.0, '...</td>\n",
       "      <td>NaN</td>\n",
       "      <td>NaN</td>\n",
       "    </tr>\n",
       "    <tr>\n",
       "      <th>UFG</th>\n",
       "      <td>62.181653</td>\n",
       "      <td>0.606236</td>\n",
       "      <td>50.849858</td>\n",
       "      <td>{'tak': -3.488151731949151e-05, 'formand': -3....</td>\n",
       "      <td>2774.0</td>\n",
       "      <td>0.0</td>\n",
       "    </tr>\n",
       "    <tr>\n",
       "      <th>V</th>\n",
       "      <td>7562.340035</td>\n",
       "      <td>0.279635</td>\n",
       "      <td>39.454868</td>\n",
       "      <td>{'tak': -0.00013404959303226743, 'formand': -1...</td>\n",
       "      <td>826161.0</td>\n",
       "      <td>43.0</td>\n",
       "    </tr>\n",
       "  </tbody>\n",
       "</table>\n",
       "</div>"
      ],
      "text/plain": [
       "        totalSent   avgSent        lix  \\\n",
       "ALT   7184.792473  0.342537  40.253608   \n",
       "DF    9816.984189  0.244083  37.484111   \n",
       "EL   11673.655360  0.217732  38.870138   \n",
       "IA    1081.779810  0.462341  43.005482   \n",
       "JF     275.704860  0.331436  38.510285   \n",
       "KF    3637.448697  0.296384  37.824342   \n",
       "LA    5573.353110  0.261870  39.577172   \n",
       "RV    4968.206200  0.313630  40.520201   \n",
       "S    10581.238757  0.267605  39.698706   \n",
       "SF    5492.370928  0.257456  38.255319   \n",
       "SIU    594.668178  0.436765  45.633260   \n",
       "T      362.234312  0.372934  46.097805   \n",
       "UFG     62.181653  0.606236  50.849858   \n",
       "V     7562.340035  0.279635  39.454868   \n",
       "\n",
       "                                                 tfIdf     votes  mandates  \n",
       "ALT  {'tak': -0.0001620893789640562, 'hørte': 1.095...  104278.0       5.0  \n",
       "DF   {'tak': -0.00013362092276703437, 'talen': 8.27...  308513.0      16.0  \n",
       "EL   {'tak': -0.00013045472639642896, 'socialdemokr...  245100.0      13.0  \n",
       "IA   {'arktis': -0.00010335540258316482, 'hot': 2.0...       NaN       NaN  \n",
       "JF   {'fornemt': 0.0002723333224501143, 'store': -6...       NaN       NaN  \n",
       "KF   {'sidder': 0.0, 'millioner': 1.904683111902463...  233865.0      12.0  \n",
       "LA   {'retorik': 5.989939538166984e-06, 'benny': 1....   82270.0       4.0  \n",
       "RV   {'tak': -9.589612384965261e-05, 'ordførerens':...  304714.0      16.0  \n",
       "S    {'tak': -0.0001290966010152699, 'formand': -1....  914882.0      48.0  \n",
       "SF   {'tak': -8.222107688316156e-05, 'gerne': -0.00...  272304.0      14.0  \n",
       "SIU  {'tak': -3.066574778115699e-05, 'rigsfællesska...       NaN       NaN  \n",
       "T    {'godt': -6.349723228827407e-05, 'stå': 0.0, '...       NaN       NaN  \n",
       "UFG  {'tak': -3.488151731949151e-05, 'formand': -3....    2774.0       0.0  \n",
       "V    {'tak': -0.00013404959303226743, 'formand': -1...  826161.0      43.0  "
      ]
     },
     "execution_count": 46,
     "metadata": {},
     "output_type": "execute_result"
    }
   ],
   "source": [
    "PartyData"
   ]
  },
  {
   "cell_type": "markdown",
   "metadata": {},
   "source": [
    "Saving Data"
   ]
  },
  {
   "cell_type": "code",
   "execution_count": 47,
   "metadata": {},
   "outputs": [],
   "source": [
    "PartyData.to_csv(\"data/AppData/\" + speechString + \"/PartyData\"+ speechString +\".csv\")"
   ]
  },
  {
   "cell_type": "markdown",
   "metadata": {},
   "source": [
    "### People"
   ]
  },
  {
   "cell_type": "markdown",
   "metadata": {},
   "source": [
    "###### Actor name to id dict"
   ]
  },
  {
   "cell_type": "code",
   "execution_count": 48,
   "metadata": {},
   "outputs": [],
   "source": [
    "#Sentiment\n",
    "PersonData = pd.DataFrame.from_dict(person_sent, orient='index')\n",
    "PersonData[\"avgSent\"] = pd.DataFrame.from_dict(person_sent_avg, orient='index')[0]\n",
    "PersonData = PersonData.rename(columns={0: \"totalSent\",})\n",
    "\n",
    "#LIX\n",
    "PersonData[\"lix\"] = pd.DataFrame.from_dict(person_LIX, orient='index')[0]\n",
    "\n",
    "#TF-IDF\n",
    "Person_TF_IDF_Dict = dict(zip(Person_TF_IDF_ALL[\"Person\"],Person_TF_IDF_ALL[\"Words\"]))\n",
    "PersonData[\"tfIdf\"] = PersonData.apply(lambda row: Person_TF_IDF_Dict[row.name], axis=1)\n",
    "#PersonData[\"tfIdf\"] = pd.DataFrame.from_dict(Person_TF_IDF_Dict, orient='index')[0]\n",
    "\n",
    "#Votes\n",
    "PersonData[\"votes\"] = pd.DataFrame.from_dict(StemmerDict, orient='index')[0].astype(int)\n",
    "PersonData[\"personalVotes\"] = pd.DataFrame.from_dict(PStemmerDict, orient='index')[0]\n",
    "\n",
    "#Convert index to id\n",
    "PersonData[\"id\"] = pd.DataFrame.from_dict(ActorNameDict, orient='index')[0]\n",
    "PersonData[\"name\"] = PersonData.index\n",
    "PersonData = PersonData.set_index(\"id\")\n",
    "\n",
    "#Party\n",
    "PersonData[\"party\"] = pd.DataFrame.from_dict(IDPartyDict, orient='index')[0]\n",
    "\n",
    "#Rearrange columns\n",
    "PersonData = PersonData[[\"name\",\"party\", \"votes\", \"personalVotes\", \"totalSent\", \"avgSent\", \"lix\", \"tfIdf\"]]"
   ]
  },
  {
   "cell_type": "markdown",
   "metadata": {},
   "source": [
    "Saving data"
   ]
  },
  {
   "cell_type": "code",
   "execution_count": 50,
   "metadata": {
    "scrolled": true
   },
   "outputs": [
    {
     "data": {
      "text/html": [
       "<div>\n",
       "<style scoped>\n",
       "    .dataframe tbody tr th:only-of-type {\n",
       "        vertical-align: middle;\n",
       "    }\n",
       "\n",
       "    .dataframe tbody tr th {\n",
       "        vertical-align: top;\n",
       "    }\n",
       "\n",
       "    .dataframe thead th {\n",
       "        text-align: right;\n",
       "    }\n",
       "</style>\n",
       "<table border=\"1\" class=\"dataframe\">\n",
       "  <thead>\n",
       "    <tr style=\"text-align: right;\">\n",
       "      <th></th>\n",
       "      <th>name</th>\n",
       "      <th>party</th>\n",
       "      <th>votes</th>\n",
       "      <th>personalVotes</th>\n",
       "      <th>totalSent</th>\n",
       "      <th>avgSent</th>\n",
       "      <th>lix</th>\n",
       "      <th>tfIdf</th>\n",
       "    </tr>\n",
       "    <tr>\n",
       "      <th>id</th>\n",
       "      <th></th>\n",
       "      <th></th>\n",
       "      <th></th>\n",
       "      <th></th>\n",
       "      <th></th>\n",
       "      <th></th>\n",
       "      <th></th>\n",
       "      <th></th>\n",
       "    </tr>\n",
       "  </thead>\n",
       "  <tbody>\n",
       "    <tr>\n",
       "      <th>16374.0</th>\n",
       "      <td>Anders Johansson</td>\n",
       "      <td>KF</td>\n",
       "      <td>935.0</td>\n",
       "      <td>695.000</td>\n",
       "      <td>135.796228</td>\n",
       "      <td>0.489409</td>\n",
       "      <td>42.738345</td>\n",
       "      <td>{'tak': 6.979399987128776e-05, 'beslutningsfor...</td>\n",
       "    </tr>\n",
       "    <tr>\n",
       "      <th>16074.0</th>\n",
       "      <td>Steen Holm Iversen</td>\n",
       "      <td>LA</td>\n",
       "      <td>926.0</td>\n",
       "      <td>451.000</td>\n",
       "      <td>54.123094</td>\n",
       "      <td>0.191994</td>\n",
       "      <td>49.190165</td>\n",
       "      <td>{'tak': 6.648609365738912e-05, 'ganske': 0.000...</td>\n",
       "    </tr>\n",
       "    <tr>\n",
       "      <th>77.0</th>\n",
       "      <td>Kristian Thulesen Dahl</td>\n",
       "      <td>DF</td>\n",
       "      <td>90.0</td>\n",
       "      <td>57.371</td>\n",
       "      <td>414.041959</td>\n",
       "      <td>0.317495</td>\n",
       "      <td>36.120236</td>\n",
       "      <td>{'tak': 3.5780803764293e-05, 'socialdemokratis...</td>\n",
       "    </tr>\n",
       "    <tr>\n",
       "      <th>144.0</th>\n",
       "      <td>Helle Thorning-Schmidt</td>\n",
       "      <td>S</td>\n",
       "      <td>68.0</td>\n",
       "      <td>42.412</td>\n",
       "      <td>353.965224</td>\n",
       "      <td>0.361447</td>\n",
       "      <td>30.340514</td>\n",
       "      <td>{'ordføreren': 0.004790339002940531, 'rasmus':...</td>\n",
       "    </tr>\n",
       "    <tr>\n",
       "      <th>252.0</th>\n",
       "      <td>Pia Kjærsgaard</td>\n",
       "      <td>DF</td>\n",
       "      <td>50.0</td>\n",
       "      <td>26.583</td>\n",
       "      <td>2446.505553</td>\n",
       "      <td>0.486915</td>\n",
       "      <td>33.440634</td>\n",
       "      <td>{'udvalget': 0.000267922011908464, 'valgs': 0....</td>\n",
       "    </tr>\n",
       "    <tr>\n",
       "      <th>...</th>\n",
       "      <td>...</td>\n",
       "      <td>...</td>\n",
       "      <td>...</td>\n",
       "      <td>...</td>\n",
       "      <td>...</td>\n",
       "      <td>...</td>\n",
       "      <td>...</td>\n",
       "      <td>...</td>\n",
       "    </tr>\n",
       "    <tr>\n",
       "      <th>15795.0</th>\n",
       "      <td>May-Britt Kattrup</td>\n",
       "      <td>LA</td>\n",
       "      <td>NaN</td>\n",
       "      <td>NaN</td>\n",
       "      <td>217.423023</td>\n",
       "      <td>0.283620</td>\n",
       "      <td>41.593239</td>\n",
       "      <td>{'tak': 6.279490492828702e-05, 'periode': 4.99...</td>\n",
       "    </tr>\n",
       "    <tr>\n",
       "      <th>NaN</th>\n",
       "      <td>Pause Pause</td>\n",
       "      <td>NaN</td>\n",
       "      <td>NaN</td>\n",
       "      <td>NaN</td>\n",
       "      <td>-10.586667</td>\n",
       "      <td>-0.333859</td>\n",
       "      <td>22.969137</td>\n",
       "      <td>{'mødet': 0.1337599248496442, 'udsat': 0.04283...</td>\n",
       "    </tr>\n",
       "    <tr>\n",
       "      <th>262.0</th>\n",
       "      <td>Sjúrður Skaale</td>\n",
       "      <td>JF</td>\n",
       "      <td>NaN</td>\n",
       "      <td>NaN</td>\n",
       "      <td>275.704860</td>\n",
       "      <td>0.331436</td>\n",
       "      <td>38.510285</td>\n",
       "      <td>{'fornemt': 0.0011334213418015505, 'store': 0....</td>\n",
       "    </tr>\n",
       "    <tr>\n",
       "      <th>15784.0</th>\n",
       "      <td>Søren Pape Poulsen</td>\n",
       "      <td>KF</td>\n",
       "      <td>NaN</td>\n",
       "      <td>NaN</td>\n",
       "      <td>497.207217</td>\n",
       "      <td>0.316898</td>\n",
       "      <td>33.534716</td>\n",
       "      <td>{'tak': 3.279578684057815e-05, 'rigtig': 0.000...</td>\n",
       "    </tr>\n",
       "    <tr>\n",
       "      <th>296.0</th>\n",
       "      <td>Ulla Tørnæs</td>\n",
       "      <td>V</td>\n",
       "      <td>NaN</td>\n",
       "      <td>NaN</td>\n",
       "      <td>342.296421</td>\n",
       "      <td>0.442169</td>\n",
       "      <td>45.444858</td>\n",
       "      <td>{'gerne': 7.600299990855947e-05, 'takke': 8.91...</td>\n",
       "    </tr>\n",
       "  </tbody>\n",
       "</table>\n",
       "<p>204 rows × 8 columns</p>\n",
       "</div>"
      ],
      "text/plain": [
       "                           name party  votes  personalVotes    totalSent  \\\n",
       "id                                                                         \n",
       "16374.0        Anders Johansson    KF  935.0        695.000   135.796228   \n",
       "16074.0      Steen Holm Iversen    LA  926.0        451.000    54.123094   \n",
       "77.0     Kristian Thulesen Dahl    DF   90.0         57.371   414.041959   \n",
       "144.0    Helle Thorning-Schmidt     S   68.0         42.412   353.965224   \n",
       "252.0            Pia Kjærsgaard    DF   50.0         26.583  2446.505553   \n",
       "...                         ...   ...    ...            ...          ...   \n",
       "15795.0       May-Britt Kattrup    LA    NaN            NaN   217.423023   \n",
       "NaN                 Pause Pause   NaN    NaN            NaN   -10.586667   \n",
       "262.0            Sjúrður Skaale    JF    NaN            NaN   275.704860   \n",
       "15784.0      Søren Pape Poulsen    KF    NaN            NaN   497.207217   \n",
       "296.0               Ulla Tørnæs     V    NaN            NaN   342.296421   \n",
       "\n",
       "          avgSent        lix  \\\n",
       "id                             \n",
       "16374.0  0.489409  42.738345   \n",
       "16074.0  0.191994  49.190165   \n",
       "77.0     0.317495  36.120236   \n",
       "144.0    0.361447  30.340514   \n",
       "252.0    0.486915  33.440634   \n",
       "...           ...        ...   \n",
       "15795.0  0.283620  41.593239   \n",
       "NaN     -0.333859  22.969137   \n",
       "262.0    0.331436  38.510285   \n",
       "15784.0  0.316898  33.534716   \n",
       "296.0    0.442169  45.444858   \n",
       "\n",
       "                                                     tfIdf  \n",
       "id                                                          \n",
       "16374.0  {'tak': 6.979399987128776e-05, 'beslutningsfor...  \n",
       "16074.0  {'tak': 6.648609365738912e-05, 'ganske': 0.000...  \n",
       "77.0     {'tak': 3.5780803764293e-05, 'socialdemokratis...  \n",
       "144.0    {'ordføreren': 0.004790339002940531, 'rasmus':...  \n",
       "252.0    {'udvalget': 0.000267922011908464, 'valgs': 0....  \n",
       "...                                                    ...  \n",
       "15795.0  {'tak': 6.279490492828702e-05, 'periode': 4.99...  \n",
       "NaN      {'mødet': 0.1337599248496442, 'udsat': 0.04283...  \n",
       "262.0    {'fornemt': 0.0011334213418015505, 'store': 0....  \n",
       "15784.0  {'tak': 3.279578684057815e-05, 'rigtig': 0.000...  \n",
       "296.0    {'gerne': 7.600299990855947e-05, 'takke': 8.91...  \n",
       "\n",
       "[204 rows x 8 columns]"
      ]
     },
     "execution_count": 50,
     "metadata": {},
     "output_type": "execute_result"
    }
   ],
   "source": [
    "PersonData.sort_values(by=\"votes\", ascending=False)"
   ]
  },
  {
   "cell_type": "code",
   "execution_count": 51,
   "metadata": {},
   "outputs": [],
   "source": [
    "PersonData.to_csv(\"data/AppData/\" + speechString + \"/PersonData\"+ speechString +\".csv\")"
   ]
  },
  {
   "cell_type": "markdown",
   "metadata": {},
   "source": [
    "### Export to json"
   ]
  },
  {
   "cell_type": "code",
   "execution_count": 52,
   "metadata": {},
   "outputs": [],
   "source": [
    "import json"
   ]
  },
  {
   "cell_type": "markdown",
   "metadata": {},
   "source": [
    "**Parties**"
   ]
  },
  {
   "cell_type": "code",
   "execution_count": 53,
   "metadata": {},
   "outputs": [
    {
     "data": {
      "text/plain": [
       "ALT    None\n",
       "DF     None\n",
       "EL     None\n",
       "IA     None\n",
       "JF     None\n",
       "KF     None\n",
       "LA     None\n",
       "RV     None\n",
       "S      None\n",
       "SF     None\n",
       "SIU    None\n",
       "T      None\n",
       "UFG    None\n",
       "V      None\n",
       "dtype: object"
      ]
     },
     "execution_count": 53,
     "metadata": {},
     "output_type": "execute_result"
    }
   ],
   "source": [
    "PartyData.apply(lambda row: PartyData.loc[str(row.name)].to_json('data/AppData/'+ speechString + '/party/ ' + row.name + '.json', orient=\"table\",force_ascii=False), axis=1)"
   ]
  },
  {
   "cell_type": "markdown",
   "metadata": {},
   "source": [
    "**Persons**"
   ]
  },
  {
   "cell_type": "code",
   "execution_count": 54,
   "metadata": {},
   "outputs": [],
   "source": [
    "PersonDataNoNaN = PersonData[~PersonData.index.duplicated(keep='first')].dropna(how='any', thresh=6)"
   ]
  },
  {
   "cell_type": "code",
   "execution_count": 55,
   "metadata": {
    "scrolled": true
   },
   "outputs": [
    {
     "data": {
      "text/plain": [
       "id\n",
       "15757.0    None\n",
       "15758.0    None\n",
       "18.0       None\n",
       "16374.0    None\n",
       "148.0      None\n",
       "123.0      None\n",
       "286.0      None\n",
       "16503.0    None\n",
       "181.0      None\n",
       "168.0      None\n",
       "38.0       None\n",
       "120.0      None\n",
       "183.0      None\n",
       "129.0      None\n",
       "257.0      None\n",
       "83.0       None\n",
       "15782.0    None\n",
       "15765.0    None\n",
       "15778.0    None\n",
       "15779.0    None\n",
       "16072.0    None\n",
       "39.0       None\n",
       "79.0       None\n",
       "15797.0    None\n",
       "15762.0    None\n",
       "15773.0    None\n",
       "17.0       None\n",
       "270.0      None\n",
       "15781.0    None\n",
       "167.0      None\n",
       "366.0      None\n",
       "119.0      None\n",
       "15798.0    None\n",
       "163.0      None\n",
       "16428.0    None\n",
       "15766.0    None\n",
       "49.0       None\n",
       "261.0      None\n",
       "15791.0    None\n",
       "265.0      None\n",
       "3975.0     None\n",
       "224.0      None\n",
       "164.0      None\n",
       "125.0      None\n",
       "179.0      None\n",
       "82.0       None\n",
       "144.0      None\n",
       "44.0       None\n",
       "3082.0     None\n",
       "15800.0    None\n",
       "352.0      None\n",
       "28.0       None\n",
       "33.0       None\n",
       "4956.0     None\n",
       "152.0      None\n",
       "182.0      None\n",
       "173.0      None\n",
       "15788.0    None\n",
       "207.0      None\n",
       "57.0       None\n",
       "15785.0    None\n",
       "102.0      None\n",
       "15796.0    None\n",
       "9603.0     None\n",
       "15764.0    None\n",
       "200.0      None\n",
       "113.0      None\n",
       "213.0      None\n",
       "214.0      None\n",
       "15789.0    None\n",
       "656.0      None\n",
       "14017.0    None\n",
       "111.0      None\n",
       "147.0      None\n",
       "6737.0     None\n",
       "205.0      None\n",
       "15783.0    None\n",
       "187.0      None\n",
       "72.0       None\n",
       "280.0      None\n",
       "278.0      None\n",
       "56.0       None\n",
       "162.0      None\n",
       "15761.0    None\n",
       "199.0      None\n",
       "24.0       None\n",
       "16180.0    None\n",
       "11583.0    None\n",
       "124.0      None\n",
       "249.0      None\n",
       "271.0      None\n",
       "194.0      None\n",
       "77.0       None\n",
       "16610.0    None\n",
       "217.0      None\n",
       "145.0      None\n",
       "1504.0     None\n",
       "15760.0    None\n",
       "260.0      None\n",
       "245.0      None\n",
       "184.0      None\n",
       "219.0      None\n",
       "15774.0    None\n",
       "50.0       None\n",
       "112.0      None\n",
       "93.0       None\n",
       "15881.0    None\n",
       "244.0      None\n",
       "189.0      None\n",
       "297.0      None\n",
       "16473.0    None\n",
       "16351.0    None\n",
       "15790.0    None\n",
       "15769.0    None\n",
       "55.0       None\n",
       "78.0       None\n",
       "1146.0     None\n",
       "70.0       None\n",
       "141.0      None\n",
       "15770.0    None\n",
       "15795.0    None\n",
       "378.0      None\n",
       "73.0       None\n",
       "15793.0    None\n",
       "135.0      None\n",
       "138.0      None\n",
       "197.0      None\n",
       "263.0      None\n",
       "74.0       None\n",
       "178.0      None\n",
       "216.0      None\n",
       "4770.0     None\n",
       "220.0      None\n",
       "15771.0    None\n",
       "101.0      None\n",
       "116.0      None\n",
       "668.0      None\n",
       "67.0       None\n",
       "12.0       None\n",
       "16176.0    None\n",
       "68.0       None\n",
       "99.0       None\n",
       "246.0      None\n",
       "16582.0    None\n",
       "15777.0    None\n",
       "273.0      None\n",
       "15767.0    None\n",
       "172.0      None\n",
       "15768.0    None\n",
       "69.0       None\n",
       "4466.0     None\n",
       "180.0      None\n",
       "48.0       None\n",
       "221.0      None\n",
       "252.0      None\n",
       "43.0       None\n",
       "127.0      None\n",
       "59.0       None\n",
       "266.0      None\n",
       "1454.0     None\n",
       "15792.0    None\n",
       "264.0      None\n",
       "16073.0    None\n",
       "7737.0     None\n",
       "15786.0    None\n",
       "655.0      None\n",
       "16603.0    None\n",
       "117.0      None\n",
       "208.0      None\n",
       "16092.0    None\n",
       "262.0      None\n",
       "100.0      None\n",
       "130.0      None\n",
       "16074.0    None\n",
       "122.0      None\n",
       "14372.0    None\n",
       "667.0      None\n",
       "34.0       None\n",
       "1845.0     None\n",
       "15784.0    None\n",
       "132.0      None\n",
       "176.0      None\n",
       "139.0      None\n",
       "13439.0    None\n",
       "15780.0    None\n",
       "15775.0    None\n",
       "80.0       None\n",
       "118.0      None\n",
       "15794.0    None\n",
       "206.0      None\n",
       "84.0       None\n",
       "225.0      None\n",
       "15772.0    None\n",
       "296.0      None\n",
       "155.0      None\n",
       "1619.0     None\n",
       "191.0      None\n",
       "dtype: object"
      ]
     },
     "execution_count": 55,
     "metadata": {},
     "output_type": "execute_result"
    }
   ],
   "source": [
    "PersonDataNoNaN.apply(lambda row: PersonData.loc[int(row.name)].to_json('data/AppData/'+ speechString + '/persons/' + str(int(row.name)) + '.json', orient=\"table\",force_ascii=False), axis=1)"
   ]
  },
  {
   "cell_type": "markdown",
   "metadata": {},
   "source": [
    "---"
   ]
  },
  {
   "cell_type": "code",
   "execution_count": 49,
   "metadata": {},
   "outputs": [],
   "source": [
    "pd.set_option('display.max_rows', 200)"
   ]
  },
  {
   "cell_type": "markdown",
   "metadata": {},
   "source": [
    "## Discussion"
   ]
  },
  {
   "cell_type": "markdown",
   "metadata": {},
   "source": [
    "In general we were able to use a lot of the tools we learned during the course. It gave us a way to actully comprehend a very large amount of information in an understandable way.\n",
    "For instance the ability to know what each person was talking about gave us insights into debates that had happened with in parliament like a discussion on facial recognition where a single politician had fought very hard against it.\n",
    "We were afraid that the fact that the dataset was in Danish would pose a major challenge.\n",
    "However `sentida` package was awesome is something that is great to know for natively Danish *computational social scientists in the making*.\n",
    "\n",
    "On the other hand we probably took on too big a dataset with too wide a scope for the very limited timeframe we were working with.\n",
    "The notebook above is only a fraction of all the notebook that we have created.\n",
    "We created a lot of different networks with a variety of spectacular bad results, and we have waited for long periods on time when analyzing speeches.\n",
    "Some of the things that we didn't have the time to get into but really wanted to was:\n",
    " \n",
    " - If a party is taken out as a subgraph - could we have found communities within the parties?\n",
    " \n",
    " - How do all of these calculated statistics correlate with votes for each politician/party? (we actually began looking into this, but didn't have the time to figure out good models)\n",
    " \n",
    " - Could we have linked the politicians in better ways? Perhaps combining multiple ways of linking people.\n",
    " \n",
    " - Are there better suited community detection algorithms that we could have used?\n",
    "\n",
    "These are just some of the questions we still feel like we haven't answered.\n",
    "In general we do however feel like we learned a lot from doing the project - even if we didn't find any major conspiracy within the Danish parliament."
   ]
  }
 ],
 "metadata": {
  "kernelspec": {
   "display_name": "Python 3",
   "language": "python",
   "name": "python3"
  },
  "language_info": {
   "codemirror_mode": {
    "name": "ipython",
    "version": 3
   },
   "file_extension": ".py",
   "mimetype": "text/x-python",
   "name": "python",
   "nbconvert_exporter": "python",
   "pygments_lexer": "ipython3",
   "version": "3.8.6"
  }
 },
 "nbformat": 4,
 "nbformat_minor": 4
}
